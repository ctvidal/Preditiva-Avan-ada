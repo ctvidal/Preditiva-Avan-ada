{
 "cells": [
  {
   "cell_type": "code",
   "execution_count": 58,
   "metadata": {},
   "outputs": [
    {
     "ename": "ERROR",
     "evalue": "Error in install.packages(mlbench): objeto 'mlbench' não encontrado\n",
     "output_type": "error",
     "traceback": [
      "Error in install.packages(mlbench): objeto 'mlbench' não encontrado\nTraceback:\n",
      "1. install.packages(mlbench)"
     ]
    }
   ],
   "source": [
    "library(caret)\n",
    "library(datasets)\n",
    "library(mlbench)\n",
    "library(ggplot2)"
   ]
  },
  {
   "cell_type": "code",
   "execution_count": 3,
   "metadata": {},
   "outputs": [],
   "source": [
    "df <- read.csv(file=\"E:\\\\1.DATA_ANALYTICS\\\\17-Analise Preditiva Avançada\\\\Exercicio_1\\\\BostonRealEstate_Exercise.csv\", header=TRUE, sep=\",\")"
   ]
  },
  {
   "cell_type": "code",
   "execution_count": 5,
   "metadata": {},
   "outputs": [
    {
     "data": {
      "text/plain": [
       "     NBATH            CRIM            NROOMS           TAX        \n",
       " Min.   :1.000   Min.   :0.0000   Min.   :2.000   Min.   : 17.68  \n",
       " 1st Qu.:1.000   1st Qu.:0.4600   1st Qu.:3.000   1st Qu.: 46.51  \n",
       " Median :3.000   Median :0.6650   Median :5.000   Median : 59.52  \n",
       " Mean   :2.152   Mean   :0.6122   Mean   :4.011   Mean   : 60.21  \n",
       " 3rd Qu.:3.000   3rd Qu.:0.8000   3rd Qu.:5.000   3rd Qu.: 73.72  \n",
       " Max.   :3.000   Max.   :0.9600   Max.   :5.000   Max.   :100.00  \n",
       "      DISC             AGE             PRICE       \n",
       " Min.   : 50.52   Min.   :  1.00   Min.   : 49.61  \n",
       " 1st Qu.:122.54   1st Qu.: 13.00   1st Qu.:111.75  \n",
       " Median :161.51   Median : 26.00   Median :138.50  \n",
       " Mean   :166.32   Mean   : 35.03   Mean   :143.92  \n",
       " 3rd Qu.:204.12   3rd Qu.: 55.00   3rd Qu.:170.78  \n",
       " Max.   :419.95   Max.   :100.00   Max.   :387.94  "
      ]
     },
     "metadata": {},
     "output_type": "display_data"
    }
   ],
   "source": [
    "summary(df)"
   ]
  },
  {
   "cell_type": "code",
   "execution_count": 8,
   "metadata": {},
   "outputs": [],
   "source": [
    "set.seed(987)\n",
    "trainIndex <- createDataPartition(df$PRICE, p = .7, list = FALSE)"
   ]
  },
  {
   "cell_type": "code",
   "execution_count": 14,
   "metadata": {},
   "outputs": [],
   "source": [
    "dfTrain <- df[ trainIndex,]\n",
    "dfTest  <- df[-trainIndex,]"
   ]
  },
  {
   "cell_type": "code",
   "execution_count": 18,
   "metadata": {},
   "outputs": [],
   "source": [
    "set.seed(987)\n",
    "model_mult <- train(PRICE~., data = dfTrain ,method = \"lm\")"
   ]
  },
  {
   "cell_type": "code",
   "execution_count": 19,
   "metadata": {},
   "outputs": [
    {
     "data": {
      "text/plain": [
       "Linear Regression \n",
       "\n",
       "586 samples\n",
       "  6 predictor\n",
       "\n",
       "No pre-processing\n",
       "Resampling: Bootstrapped (25 reps) \n",
       "Summary of sample sizes: 586, 586, 586, 586, 586, 586, ... \n",
       "Resampling results:\n",
       "\n",
       "  RMSE     Rsquared   MAE     \n",
       "  22.4091  0.7987478  16.78837\n",
       "\n",
       "Tuning parameter 'intercept' was held constant at a value of TRUE"
      ]
     },
     "metadata": {},
     "output_type": "display_data"
    }
   ],
   "source": [
    "model_mult"
   ]
  },
  {
   "cell_type": "code",
   "execution_count": 20,
   "metadata": {},
   "outputs": [
    {
     "data": {
      "text/plain": [
       "loess r-squared variable importance\n",
       "\n",
       "       Overall\n",
       "DISC   0.75253\n",
       "CRIM   0.33599\n",
       "TAX    0.13140\n",
       "AGE    0.06662\n",
       "NBATH  0.02561\n",
       "NROOMS 0.02137"
      ]
     },
     "metadata": {},
     "output_type": "display_data"
    },
    {
     "data": {
      "image/png": "[encoded data removed]",
      "text/plain": [
       "plot without title"
      ]
     },
     "metadata": {},
     "output_type": "display_data"
    }
   ],
   "source": [
    "imp <- varImp(model_mult ,useModel=FALSE, scale=FALSE)\n",
    "imp\n",
    "plot(imp)"
   ]
  },
  {
   "cell_type": "code",
   "execution_count": 21,
   "metadata": {},
   "outputs": [
    {
     "data": {
      "text/html": [
       "<table>\n",
       "<caption>A data.frame: 6 × 8</caption>\n",
       "<thead>\n",
       "\t<tr><th></th><th scope=col>NBATH</th><th scope=col>CRIM</th><th scope=col>NROOMS</th><th scope=col>TAX</th><th scope=col>DISC</th><th scope=col>AGE</th><th scope=col>PRICE</th><th scope=col>Model</th></tr>\n",
       "\t<tr><th></th><th scope=col>&lt;int&gt;</th><th scope=col>&lt;dbl&gt;</th><th scope=col>&lt;int&gt;</th><th scope=col>&lt;dbl&gt;</th><th scope=col>&lt;dbl&gt;</th><th scope=col>&lt;int&gt;</th><th scope=col>&lt;dbl&gt;</th><th scope=col>&lt;dbl&gt;</th></tr>\n",
       "</thead>\n",
       "<tbody>\n",
       "\t<tr><th scope=row>5</th><td>1</td><td>0.73</td><td>3</td><td>39.79</td><td>161.36</td><td>15</td><td>145.42</td><td>139.1835</td></tr>\n",
       "\t<tr><th scope=row>8</th><td>1</td><td>0.09</td><td>2</td><td>17.89</td><td>205.06</td><td>17</td><td>174.00</td><td>192.1363</td></tr>\n",
       "\t<tr><th scope=row>10</th><td>1</td><td>0.59</td><td>2</td><td>35.40</td><td>132.91</td><td>26</td><td>124.78</td><td>130.8994</td></tr>\n",
       "\t<tr><th scope=row>15</th><td>1</td><td>0.87</td><td>3</td><td>59.55</td><td>181.34</td><td>40</td><td>149.41</td><td>154.8124</td></tr>\n",
       "\t<tr><th scope=row>18</th><td>3</td><td>0.75</td><td>5</td><td>89.46</td><td>130.44</td><td>89</td><td>130.44</td><td>128.7806</td></tr>\n",
       "\t<tr><th scope=row>19</th><td>1</td><td>0.64</td><td>2</td><td>65.00</td><td>182.27</td><td> 2</td><td>109.14</td><td>142.3977</td></tr>\n",
       "</tbody>\n",
       "</table>\n"
      ],
      "text/latex": [
       "A data.frame: 6 × 8\n",
       "\\begin{tabular}{r|llllllll}\n",
       "  & NBATH & CRIM & NROOMS & TAX & DISC & AGE & PRICE & Model\\\\\n",
       "  & <int> & <dbl> & <int> & <dbl> & <dbl> & <int> & <dbl> & <dbl>\\\\\n",
       "\\hline\n",
       "\t5 & 1 & 0.73 & 3 & 39.79 & 161.36 & 15 & 145.42 & 139.1835\\\\\n",
       "\t8 & 1 & 0.09 & 2 & 17.89 & 205.06 & 17 & 174.00 & 192.1363\\\\\n",
       "\t10 & 1 & 0.59 & 2 & 35.40 & 132.91 & 26 & 124.78 & 130.8994\\\\\n",
       "\t15 & 1 & 0.87 & 3 & 59.55 & 181.34 & 40 & 149.41 & 154.8124\\\\\n",
       "\t18 & 3 & 0.75 & 5 & 89.46 & 130.44 & 89 & 130.44 & 128.7806\\\\\n",
       "\t19 & 1 & 0.64 & 2 & 65.00 & 182.27 &  2 & 109.14 & 142.3977\\\\\n",
       "\\end{tabular}\n"
      ],
      "text/markdown": [
       "\n",
       "A data.frame: 6 × 8\n",
       "\n",
       "| <!--/--> | NBATH &lt;int&gt; | CRIM &lt;dbl&gt; | NROOMS &lt;int&gt; | TAX &lt;dbl&gt; | DISC &lt;dbl&gt; | AGE &lt;int&gt; | PRICE &lt;dbl&gt; | Model &lt;dbl&gt; |\n",
       "|---|---|---|---|---|---|---|---|---|\n",
       "| 5 | 1 | 0.73 | 3 | 39.79 | 161.36 | 15 | 145.42 | 139.1835 |\n",
       "| 8 | 1 | 0.09 | 2 | 17.89 | 205.06 | 17 | 174.00 | 192.1363 |\n",
       "| 10 | 1 | 0.59 | 2 | 35.40 | 132.91 | 26 | 124.78 | 130.8994 |\n",
       "| 15 | 1 | 0.87 | 3 | 59.55 | 181.34 | 40 | 149.41 | 154.8124 |\n",
       "| 18 | 3 | 0.75 | 5 | 89.46 | 130.44 | 89 | 130.44 | 128.7806 |\n",
       "| 19 | 1 | 0.64 | 2 | 65.00 | 182.27 |  2 | 109.14 | 142.3977 |\n",
       "\n"
      ],
      "text/plain": [
       "   NBATH CRIM NROOMS TAX   DISC   AGE PRICE  Model   \n",
       "5  1     0.73 3      39.79 161.36 15  145.42 139.1835\n",
       "8  1     0.09 2      17.89 205.06 17  174.00 192.1363\n",
       "10 1     0.59 2      35.40 132.91 26  124.78 130.8994\n",
       "15 1     0.87 3      59.55 181.34 40  149.41 154.8124\n",
       "18 3     0.75 5      89.46 130.44 89  130.44 128.7806\n",
       "19 1     0.64 2      65.00 182.27  2  109.14 142.3977"
      ]
     },
     "metadata": {},
     "output_type": "display_data"
    }
   ],
   "source": [
    "y_Model <- predict(model_mult, dfTest)\n",
    "dfTest$Model <- y_Model\n",
    "head(dfTest)"
   ]
  },
  {
   "cell_type": "code",
   "execution_count": 55,
   "metadata": {},
   "outputs": [
    {
     "data": {
      "text/html": [
       "<table>\n",
       "<caption>A data.frame: 1 × 7</caption>\n",
       "<thead>\n",
       "\t<tr><th scope=col>CRIM</th><th scope=col>NROOMS</th><th scope=col>AGE</th><th scope=col>DISC</th><th scope=col>NBATH</th><th scope=col>TAX</th><th scope=col>modelo</th></tr>\n",
       "\t<tr><th scope=col>&lt;dbl&gt;</th><th scope=col>&lt;dbl&gt;</th><th scope=col>&lt;dbl&gt;</th><th scope=col>&lt;dbl&gt;</th><th scope=col>&lt;dbl&gt;</th><th scope=col>&lt;dbl&gt;</th><th scope=col>&lt;dbl&gt;</th></tr>\n",
       "</thead>\n",
       "<tbody>\n",
       "\t<tr><td>0.71</td><td>2</td><td>63</td><td>101.24</td><td>1</td><td>65.4</td><td>113.2732</td></tr>\n",
       "</tbody>\n",
       "</table>\n"
      ],
      "text/latex": [
       "A data.frame: 1 × 7\n",
       "\\begin{tabular}{r|lllllll}\n",
       " CRIM & NROOMS & AGE & DISC & NBATH & TAX & modelo\\\\\n",
       " <dbl> & <dbl> & <dbl> & <dbl> & <dbl> & <dbl> & <dbl>\\\\\n",
       "\\hline\n",
       "\t 0.71 & 2 & 63 & 101.24 & 1 & 65.4 & 113.2732\\\\\n",
       "\\end{tabular}\n"
      ],
      "text/markdown": [
       "\n",
       "A data.frame: 1 × 7\n",
       "\n",
       "| CRIM &lt;dbl&gt; | NROOMS &lt;dbl&gt; | AGE &lt;dbl&gt; | DISC &lt;dbl&gt; | NBATH &lt;dbl&gt; | TAX &lt;dbl&gt; | modelo &lt;dbl&gt; |\n",
       "|---|---|---|---|---|---|---|\n",
       "| 0.71 | 2 | 63 | 101.24 | 1 | 65.4 | 113.2732 |\n",
       "\n"
      ],
      "text/plain": [
       "  CRIM NROOMS AGE DISC   NBATH TAX  modelo  \n",
       "1 0.71 2      63  101.24 1     65.4 113.2732"
      ]
     },
     "metadata": {},
     "output_type": "display_data"
    }
   ],
   "source": [
    "data <- data.frame(CRIM=0.71,NROOMS=2,AGE=63,DISC=101.24,NBATH=1,TAX=65.4)\n",
    "y_Model <- predict(model_mult, data)\n",
    "data$modelo <- y_Model\n",
    "head(data)\n"
   ]
  },
  {
   "cell_type": "code",
   "execution_count": 49,
   "metadata": {},
   "outputs": [],
   "source": [
    "dfTrain$AGE2 <- dfTrain$AGE^2\n",
    "set.seed(987)\n",
    "model_mult2 <- train(PRICE~., data = dfTrain ,method = \"lm\")"
   ]
  },
  {
   "cell_type": "code",
   "execution_count": 50,
   "metadata": {},
   "outputs": [
    {
     "data": {
      "text/plain": [
       "Linear Regression \n",
       "\n",
       "586 samples\n",
       "  7 predictor\n",
       "\n",
       "No pre-processing\n",
       "Resampling: Bootstrapped (25 reps) \n",
       "Summary of sample sizes: 586, 586, 586, 586, 586, 586, ... \n",
       "Resampling results:\n",
       "\n",
       "  RMSE      Rsquared   MAE    \n",
       "  21.23936  0.8190131  15.7996\n",
       "\n",
       "Tuning parameter 'intercept' was held constant at a value of TRUE"
      ]
     },
     "metadata": {},
     "output_type": "display_data"
    }
   ],
   "source": [
    "model_mult2"
   ]
  },
  {
   "cell_type": "code",
   "execution_count": 51,
   "metadata": {},
   "outputs": [
    {
     "data": {
      "text/plain": [
       "loess r-squared variable importance\n",
       "\n",
       "       Overall\n",
       "DISC   0.75253\n",
       "CRIM   0.33599\n",
       "TAX    0.13140\n",
       "AGE2   0.09494\n",
       "AGE    0.06662\n",
       "NBATH  0.02561\n",
       "NROOMS 0.02137"
      ]
     },
     "metadata": {},
     "output_type": "display_data"
    },
    {
     "data": {
      "image/png": "[encoded data removed]",
      "text/plain": [
       "plot without title"
      ]
     },
     "metadata": {},
     "output_type": "display_data"
    }
   ],
   "source": [
    "imp <- varImp(model_mult2 ,useModel=FALSE, scale=FALSE)\n",
    "imp\n",
    "plot(imp)"
   ]
  },
  {
   "cell_type": "code",
   "execution_count": 56,
   "metadata": {},
   "outputs": [
    {
     "data": {
      "text/html": [
       "<table>\n",
       "<caption>A data.frame: 1 × 8</caption>\n",
       "<thead>\n",
       "\t<tr><th scope=col>CRIM</th><th scope=col>NROOMS</th><th scope=col>AGE</th><th scope=col>AGE2</th><th scope=col>DISC</th><th scope=col>NBATH</th><th scope=col>TAX</th><th scope=col>modelo</th></tr>\n",
       "\t<tr><th scope=col>&lt;dbl&gt;</th><th scope=col>&lt;dbl&gt;</th><th scope=col>&lt;dbl&gt;</th><th scope=col>&lt;dbl&gt;</th><th scope=col>&lt;dbl&gt;</th><th scope=col>&lt;dbl&gt;</th><th scope=col>&lt;dbl&gt;</th><th scope=col>&lt;dbl&gt;</th></tr>\n",
       "</thead>\n",
       "<tbody>\n",
       "\t<tr><td>0.71</td><td>2</td><td>63</td><td>3969</td><td>101.24</td><td>1</td><td>65.4</td><td>121.4647</td></tr>\n",
       "</tbody>\n",
       "</table>\n"
      ],
      "text/latex": [
       "A data.frame: 1 × 8\n",
       "\\begin{tabular}{r|llllllll}\n",
       " CRIM & NROOMS & AGE & AGE2 & DISC & NBATH & TAX & modelo\\\\\n",
       " <dbl> & <dbl> & <dbl> & <dbl> & <dbl> & <dbl> & <dbl> & <dbl>\\\\\n",
       "\\hline\n",
       "\t 0.71 & 2 & 63 & 3969 & 101.24 & 1 & 65.4 & 121.4647\\\\\n",
       "\\end{tabular}\n"
      ],
      "text/markdown": [
       "\n",
       "A data.frame: 1 × 8\n",
       "\n",
       "| CRIM &lt;dbl&gt; | NROOMS &lt;dbl&gt; | AGE &lt;dbl&gt; | AGE2 &lt;dbl&gt; | DISC &lt;dbl&gt; | NBATH &lt;dbl&gt; | TAX &lt;dbl&gt; | modelo &lt;dbl&gt; |\n",
       "|---|---|---|---|---|---|---|---|\n",
       "| 0.71 | 2 | 63 | 3969 | 101.24 | 1 | 65.4 | 121.4647 |\n",
       "\n"
      ],
      "text/plain": [
       "  CRIM NROOMS AGE AGE2 DISC   NBATH TAX  modelo  \n",
       "1 0.71 2      63  3969 101.24 1     65.4 121.4647"
      ]
     },
     "metadata": {},
     "output_type": "display_data"
    }
   ],
   "source": [
    "data2 <- data.frame(CRIM=0.71,NROOMS=2,AGE=63,AGE2=63^2,DISC=101.24,NBATH=1,TAX=65.4)\n",
    "y_Model <- predict(model_mult2, data2)\n",
    "data2$modelo <- y_Model\n",
    "head(data2)"
   ]
  }
 ],
 "metadata": {
  "celltoolbar": "Slideshow",
  "kernelspec": {
   "display_name": "R",
   "language": "R",
   "name": "ir"
  },
  "language_info": {
   "codemirror_mode": "r",
   "file_extension": ".r",
   "mimetype": "text/x-r-source",
   "name": "R",
   "pygments_lexer": "r",
   "version": "3.5.2"
  }
 },
 "nbformat": 4,
 "nbformat_minor": 2
}
