{
 "cells": [
  {
   "cell_type": "code",
   "execution_count": 1,
   "metadata": {},
   "outputs": [
    {
     "name": "stderr",
     "output_type": "stream",
     "text": [
      "Loading required package: lattice\n",
      "Loading required package: ggplot2\n",
      "Type 'citation(\"pROC\")' for a citation.\n",
      "\n",
      "Attaching package: 'pROC'\n",
      "\n",
      "The following objects are masked from 'package:stats':\n",
      "\n",
      "    cov, smooth, var\n",
      "\n",
      "Loading required package: gplots\n",
      "\n",
      "Attaching package: 'gplots'\n",
      "\n",
      "The following object is masked from 'package:stats':\n",
      "\n",
      "    lowess\n",
      "\n"
     ]
    }
   ],
   "source": [
    "options(warn=-1)\n",
    "library(caret)\n",
    "library(datasets)\n",
    "library(mlbench)\n",
    "library(ggplot2)\n",
    "\n",
    "library(pROC)\n",
    "library(ROCR)"
   ]
  },
  {
   "cell_type": "code",
   "execution_count": 29,
   "metadata": {},
   "outputs": [
    {
     "name": "stderr",
     "output_type": "stream",
     "text": [
      "Installing package into 'C:/Users/a57240303/Documents/R/win-library/3.5'\n",
      "(as 'lib' is unspecified)\n"
     ]
    },
    {
     "name": "stdout",
     "output_type": "stream",
     "text": [
      "package 'ROCR' successfully unpacked and MD5 sums checked\n",
      "\n",
      "The downloaded binary packages are in\n",
      "\tC:\\Users\\a57240303\\AppData\\Local\\Temp\\RtmpO4HXuk\\downloaded_packages\n"
     ]
    }
   ],
   "source": [
    "install.packages('ROCR')"
   ]
  },
  {
   "cell_type": "code",
   "execution_count": 2,
   "metadata": {},
   "outputs": [],
   "source": [
    "df <- read.csv(file=\"E:\\\\1.DATA_ANALYTICS\\\\17-Analise Preditiva Avançada\\\\Exercicio_2\\\\BostonCredit_Exercise.csv\", header=TRUE, sep=\",\")"
   ]
  },
  {
   "cell_type": "code",
   "execution_count": 3,
   "metadata": {},
   "outputs": [
    {
     "data": {
      "text/html": [
       "<table>\n",
       "<caption>A data.frame: 6 × 12</caption>\n",
       "<thead>\n",
       "\t<tr><th scope=col>GENDER</th><th scope=col>AGE</th><th scope=col>DEBT</th><th scope=col>MARRIED</th><th scope=col>BANK_CUSTOMER</th><th scope=col>EDUCATION_LEVEL</th><th scope=col>YEARS_EMPLOYED</th><th scope=col>PRIOR_DEFAULT</th><th scope=col>EMPLOYED</th><th scope=col>CITIZEN</th><th scope=col>INCOME</th><th scope=col>APPROVED</th></tr>\n",
       "\t<tr><th scope=col>&lt;fct&gt;</th><th scope=col>&lt;dbl&gt;</th><th scope=col>&lt;dbl&gt;</th><th scope=col>&lt;int&gt;</th><th scope=col>&lt;int&gt;</th><th scope=col>&lt;fct&gt;</th><th scope=col>&lt;dbl&gt;</th><th scope=col>&lt;int&gt;</th><th scope=col>&lt;int&gt;</th><th scope=col>&lt;fct&gt;</th><th scope=col>&lt;int&gt;</th><th scope=col>&lt;fct&gt;</th></tr>\n",
       "</thead>\n",
       "<tbody>\n",
       "\t<tr><td>1</td><td>30.83</td><td>0.000</td><td>0</td><td>1</td><td>w</td><td>1.25</td><td>1</td><td>1</td><td>1</td><td>  0</td><td>Yes</td></tr>\n",
       "\t<tr><td>0</td><td>58.67</td><td>4.460</td><td>0</td><td>1</td><td>q</td><td>3.04</td><td>1</td><td>1</td><td>1</td><td>560</td><td>Yes</td></tr>\n",
       "\t<tr><td>0</td><td>24.50</td><td>0.500</td><td>0</td><td>1</td><td>q</td><td>1.50</td><td>1</td><td>0</td><td>1</td><td>824</td><td>Yes</td></tr>\n",
       "\t<tr><td>1</td><td>27.83</td><td>1.540</td><td>0</td><td>1</td><td>w</td><td>3.75</td><td>1</td><td>1</td><td>1</td><td>  3</td><td>Yes</td></tr>\n",
       "\t<tr><td>1</td><td>20.17</td><td>5.625</td><td>0</td><td>1</td><td>w</td><td>1.71</td><td>1</td><td>0</td><td>0</td><td>  0</td><td>Yes</td></tr>\n",
       "\t<tr><td>1</td><td>32.08</td><td>4.000</td><td>0</td><td>1</td><td>m</td><td>2.50</td><td>1</td><td>0</td><td>1</td><td>  0</td><td>Yes</td></tr>\n",
       "</tbody>\n",
       "</table>\n"
      ],
      "text/latex": [
       "A data.frame: 6 × 12\n",
       "\\begin{tabular}{r|llllllllllll}\n",
       " GENDER & AGE & DEBT & MARRIED & BANK\\_CUSTOMER & EDUCATION\\_LEVEL & YEARS\\_EMPLOYED & PRIOR\\_DEFAULT & EMPLOYED & CITIZEN & INCOME & APPROVED\\\\\n",
       " <fct> & <dbl> & <dbl> & <int> & <int> & <fct> & <dbl> & <int> & <int> & <fct> & <int> & <fct>\\\\\n",
       "\\hline\n",
       "\t 1 & 30.83 & 0.000 & 0 & 1 & w & 1.25 & 1 & 1 & 1 &   0 & Yes\\\\\n",
       "\t 0 & 58.67 & 4.460 & 0 & 1 & q & 3.04 & 1 & 1 & 1 & 560 & Yes\\\\\n",
       "\t 0 & 24.50 & 0.500 & 0 & 1 & q & 1.50 & 1 & 0 & 1 & 824 & Yes\\\\\n",
       "\t 1 & 27.83 & 1.540 & 0 & 1 & w & 3.75 & 1 & 1 & 1 &   3 & Yes\\\\\n",
       "\t 1 & 20.17 & 5.625 & 0 & 1 & w & 1.71 & 1 & 0 & 0 &   0 & Yes\\\\\n",
       "\t 1 & 32.08 & 4.000 & 0 & 1 & m & 2.50 & 1 & 0 & 1 &   0 & Yes\\\\\n",
       "\\end{tabular}\n"
      ],
      "text/markdown": [
       "\n",
       "A data.frame: 6 × 12\n",
       "\n",
       "| GENDER &lt;fct&gt; | AGE &lt;dbl&gt; | DEBT &lt;dbl&gt; | MARRIED &lt;int&gt; | BANK_CUSTOMER &lt;int&gt; | EDUCATION_LEVEL &lt;fct&gt; | YEARS_EMPLOYED &lt;dbl&gt; | PRIOR_DEFAULT &lt;int&gt; | EMPLOYED &lt;int&gt; | CITIZEN &lt;fct&gt; | INCOME &lt;int&gt; | APPROVED &lt;fct&gt; |\n",
       "|---|---|---|---|---|---|---|---|---|---|---|---|\n",
       "| 1 | 30.83 | 0.000 | 0 | 1 | w | 1.25 | 1 | 1 | 1 |   0 | Yes |\n",
       "| 0 | 58.67 | 4.460 | 0 | 1 | q | 3.04 | 1 | 1 | 1 | 560 | Yes |\n",
       "| 0 | 24.50 | 0.500 | 0 | 1 | q | 1.50 | 1 | 0 | 1 | 824 | Yes |\n",
       "| 1 | 27.83 | 1.540 | 0 | 1 | w | 3.75 | 1 | 1 | 1 |   3 | Yes |\n",
       "| 1 | 20.17 | 5.625 | 0 | 1 | w | 1.71 | 1 | 0 | 0 |   0 | Yes |\n",
       "| 1 | 32.08 | 4.000 | 0 | 1 | m | 2.50 | 1 | 0 | 1 |   0 | Yes |\n",
       "\n"
      ],
      "text/plain": [
       "  GENDER AGE   DEBT  MARRIED BANK_CUSTOMER EDUCATION_LEVEL YEARS_EMPLOYED\n",
       "1 1      30.83 0.000 0       1             w               1.25          \n",
       "2 0      58.67 4.460 0       1             q               3.04          \n",
       "3 0      24.50 0.500 0       1             q               1.50          \n",
       "4 1      27.83 1.540 0       1             w               3.75          \n",
       "5 1      20.17 5.625 0       1             w               1.71          \n",
       "6 1      32.08 4.000 0       1             m               2.50          \n",
       "  PRIOR_DEFAULT EMPLOYED CITIZEN INCOME APPROVED\n",
       "1 1             1        1         0    Yes     \n",
       "2 1             1        1       560    Yes     \n",
       "3 1             0        1       824    Yes     \n",
       "4 1             1        1         3    Yes     \n",
       "5 1             0        0         0    Yes     \n",
       "6 1             0        1         0    Yes     "
      ]
     },
     "metadata": {},
     "output_type": "display_data"
    }
   ],
   "source": [
    "head(df)"
   ]
  },
  {
   "cell_type": "code",
   "execution_count": 4,
   "metadata": {},
   "outputs": [],
   "source": [
    "set.seed(314)\n",
    "trainIndex <- createDataPartition(df$APPROVED, p = .7, list = FALSE)\n",
    "df$APPROVED <- as.factor(df$APPROVED)"
   ]
  },
  {
   "cell_type": "code",
   "execution_count": 5,
   "metadata": {},
   "outputs": [],
   "source": [
    "dfTrain <- df[ trainIndex,]\n",
    "dfTest  <- df[-trainIndex,]"
   ]
  },
  {
   "cell_type": "code",
   "execution_count": 6,
   "metadata": {},
   "outputs": [],
   "source": [
    "set.seed(314)\n",
    "options(warn=-1)\n",
    "cv <- trainControl(method = \"repeatedcv\", number = 10, savePredictions = TRUE,\n",
    "                  summaryFunction=twoClassSummary, classProbs = TRUE)\n",
    "\n",
    "\n",
    "model <- train(APPROVED~., data = dfTrain, method = \"glm\", \n",
    "                   metric=\"ROC\",trControl = cv, control = list(maxit = 50))"
   ]
  },
  {
   "cell_type": "code",
   "execution_count": 7,
   "metadata": {},
   "outputs": [
    {
     "data": {
      "text/plain": [
       "Generalized Linear Model \n",
       "\n",
       "340 samples\n",
       " 11 predictor\n",
       "  2 classes: 'No', 'Yes' \n",
       "\n",
       "No pre-processing\n",
       "Resampling: Cross-Validated (10 fold, repeated 1 times) \n",
       "Summary of sample sizes: 307, 306, 306, 306, 306, 306, ... \n",
       "Resampling results:\n",
       "\n",
       "  ROC        Sens       Spec     \n",
       "  0.9362649  0.8349673  0.8904412\n"
      ]
     },
     "metadata": {},
     "output_type": "display_data"
    }
   ],
   "source": [
    "model"
   ]
  },
  {
   "cell_type": "code",
   "execution_count": 8,
   "metadata": {},
   "outputs": [],
   "source": [
    "dfPred <- predict(model, newdata=dfTest)"
   ]
  },
  {
   "cell_type": "code",
   "execution_count": 9,
   "metadata": {},
   "outputs": [
    {
     "data": {
      "text/plain": [
       "Confusion Matrix and Statistics\n",
       "\n",
       "          Reference\n",
       "Prediction No Yes\n",
       "       No  64   9\n",
       "       Yes 10  61\n",
       "                                          \n",
       "               Accuracy : 0.8681          \n",
       "                 95% CI : (0.8016, 0.9187)\n",
       "    No Information Rate : 0.5139          \n",
       "    P-Value [Acc > NIR] : <2e-16          \n",
       "                                          \n",
       "                  Kappa : 0.736           \n",
       " Mcnemar's Test P-Value : 1               \n",
       "                                          \n",
       "            Sensitivity : 0.8649          \n",
       "            Specificity : 0.8714          \n",
       "         Pos Pred Value : 0.8767          \n",
       "         Neg Pred Value : 0.8592          \n",
       "             Prevalence : 0.5139          \n",
       "         Detection Rate : 0.4444          \n",
       "   Detection Prevalence : 0.5069          \n",
       "      Balanced Accuracy : 0.8681          \n",
       "                                          \n",
       "       'Positive' Class : No              \n",
       "                                          "
      ]
     },
     "metadata": {},
     "output_type": "display_data"
    }
   ],
   "source": [
    "confusionMatrix(data=dfPred, dfTest$APPROVED)"
   ]
  },
  {
   "cell_type": "code",
   "execution_count": 10,
   "metadata": {},
   "outputs": [
    {
     "data": {
      "text/html": [
       "<table>\n",
       "<caption>A data.frame: 6 × 2</caption>\n",
       "<thead>\n",
       "\t<tr><th></th><th scope=col>No</th><th scope=col>Yes</th></tr>\n",
       "\t<tr><th></th><th scope=col>&lt;dbl&gt;</th><th scope=col>&lt;dbl&gt;</th></tr>\n",
       "</thead>\n",
       "<tbody>\n",
       "\t<tr><th scope=row>1</th><td>9.818385e-02</td><td>0.9018162</td></tr>\n",
       "\t<tr><th scope=row>2</th><td>3.708141e-02</td><td>0.9629186</td></tr>\n",
       "\t<tr><th scope=row>5</th><td>5.224679e-01</td><td>0.4775321</td></tr>\n",
       "\t<tr><th scope=row>7</th><td>8.183419e-09</td><td>1.0000000</td></tr>\n",
       "\t<tr><th scope=row>12</th><td>8.370088e-02</td><td>0.9162991</td></tr>\n",
       "\t<tr><th scope=row>16</th><td>4.264399e-01</td><td>0.5735601</td></tr>\n",
       "</tbody>\n",
       "</table>\n"
      ],
      "text/latex": [
       "A data.frame: 6 × 2\n",
       "\\begin{tabular}{r|ll}\n",
       "  & No & Yes\\\\\n",
       "  & <dbl> & <dbl>\\\\\n",
       "\\hline\n",
       "\t1 & 9.818385e-02 & 0.9018162\\\\\n",
       "\t2 & 3.708141e-02 & 0.9629186\\\\\n",
       "\t5 & 5.224679e-01 & 0.4775321\\\\\n",
       "\t7 & 8.183419e-09 & 1.0000000\\\\\n",
       "\t12 & 8.370088e-02 & 0.9162991\\\\\n",
       "\t16 & 4.264399e-01 & 0.5735601\\\\\n",
       "\\end{tabular}\n"
      ],
      "text/markdown": [
       "\n",
       "A data.frame: 6 × 2\n",
       "\n",
       "| <!--/--> | No &lt;dbl&gt; | Yes &lt;dbl&gt; |\n",
       "|---|---|---|\n",
       "| 1 | 9.818385e-02 | 0.9018162 |\n",
       "| 2 | 3.708141e-02 | 0.9629186 |\n",
       "| 5 | 5.224679e-01 | 0.4775321 |\n",
       "| 7 | 8.183419e-09 | 1.0000000 |\n",
       "| 12 | 8.370088e-02 | 0.9162991 |\n",
       "| 16 | 4.264399e-01 | 0.5735601 |\n",
       "\n"
      ],
      "text/plain": [
       "   No           Yes      \n",
       "1  9.818385e-02 0.9018162\n",
       "2  3.708141e-02 0.9629186\n",
       "5  5.224679e-01 0.4775321\n",
       "7  8.183419e-09 1.0000000\n",
       "12 8.370088e-02 0.9162991\n",
       "16 4.264399e-01 0.5735601"
      ]
     },
     "metadata": {},
     "output_type": "display_data"
    }
   ],
   "source": [
    "dfProbs <- predict(model, newdata=dfTest, type=\"prob\")\n",
    "head(dfProbs)"
   ]
  },
  {
   "cell_type": "code",
   "execution_count": 11,
   "metadata": {},
   "outputs": [
    {
     "data": {
      "text/html": [
       "0.899227799227799"
      ],
      "text/latex": [
       "0.899227799227799"
      ],
      "text/markdown": [
       "0.899227799227799"
      ],
      "text/plain": [
       "Area under the curve: 0.8992"
      ]
     },
     "metadata": {},
     "output_type": "display_data"
    },
    {
     "data": {
      "image/png": "[encoded data removed]",
      "text/plain": [
       "Plot with title \"Curva ROC\""
      ]
     },
     "metadata": {},
     "output_type": "display_data"
    }
   ],
   "source": [
    "gbm.ROC <- roc(predictor=dfProbs$Yes,\n",
    "               response=dfTest$APPROVED,\n",
    "               levels=rev(levels(dfTest$APPROVED)))\n",
    "\n",
    "gbm.ROC$auc\n",
    "plot(gbm.ROC,main=\"Curva ROC\")"
   ]
  },
  {
   "cell_type": "code",
   "execution_count": 12,
   "metadata": {},
   "outputs": [
    {
     "data": {
      "text/plain": [
       "ROC curve variable importance\n",
       "\n",
       "                Importance\n",
       "PRIOR_DEFAULT       0.8870\n",
       "YEARS_EMPLOYED      0.7448\n",
       "EMPLOYED            0.7313\n",
       "INCOME              0.6744\n",
       "DEBT                0.6273\n",
       "AGE                 0.6164\n",
       "BANK_CUSTOMER       0.5642\n",
       "MARRIED             0.5642\n",
       "CITIZEN             0.5510\n",
       "EDUCATION_LEVEL     0.5502\n",
       "GENDER              0.5266"
      ]
     },
     "metadata": {},
     "output_type": "display_data"
    },
    {
     "data": {
      "image/png": "[encoded data removed]",
      "text/plain": [
       "plot without title"
      ]
     },
     "metadata": {},
     "output_type": "display_data"
    }
   ],
   "source": [
    "imp <- varImp(model, useModel=FALSE, scale=FALSE)\n",
    "imp\n",
    "plot(imp)"
   ]
  },
  {
   "cell_type": "code",
   "execution_count": null,
   "metadata": {},
   "outputs": [],
   "source": []
  }
 ],
 "metadata": {
  "kernelspec": {
   "display_name": "R",
   "language": "R",
   "name": "ir"
  },
  "language_info": {
   "codemirror_mode": "r",
   "file_extension": ".r",
   "mimetype": "text/x-r-source",
   "name": "R",
   "pygments_lexer": "r",
   "version": "3.5.2"
  }
 },
 "nbformat": 4,
 "nbformat_minor": 2
}
