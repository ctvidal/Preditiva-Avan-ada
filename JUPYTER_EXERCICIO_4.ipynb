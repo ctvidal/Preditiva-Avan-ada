{
 "cells": [
  {
   "cell_type": "code",
   "execution_count": 1,
   "metadata": {},
   "outputs": [
    {
     "name": "stderr",
     "output_type": "stream",
     "text": [
      "Loading required package: lattice\n",
      "Loading required package: ggplot2\n",
      "Warning message:\n",
      "\"package 'mlbench' was built under R version 3.5.3\""
     ]
    }
   ],
   "source": [
    "library(caret)\n",
    "library(mlbench)"
   ]
  },
  {
   "cell_type": "code",
   "execution_count": 2,
   "metadata": {},
   "outputs": [],
   "source": [
    "df <- read.csv(file=\"E:\\\\1.DATA_ANALYTICS\\\\17-Analise Preditiva Avançada\\\\Exercicio_4\\\\SVM_Exercise.csv\", header=TRUE, sep=\",\")"
   ]
  },
  {
   "cell_type": "code",
   "execution_count": 3,
   "metadata": {},
   "outputs": [
    {
     "data": {
      "text/html": [
       "<table>\n",
       "<caption>A data.frame: 6 × 7</caption>\n",
       "<thead>\n",
       "\t<tr><th scope=col>P.E</th><th scope=col>P.B</th><th scope=col>EPS</th><th scope=col>P.S</th><th scope=col>US</th><th scope=col>PEG</th><th scope=col>RATING</th></tr>\n",
       "\t<tr><th scope=col>&lt;dbl&gt;</th><th scope=col>&lt;dbl&gt;</th><th scope=col>&lt;dbl&gt;</th><th scope=col>&lt;dbl&gt;</th><th scope=col>&lt;int&gt;</th><th scope=col>&lt;dbl&gt;</th><th scope=col>&lt;fct&gt;</th></tr>\n",
       "</thead>\n",
       "<tbody>\n",
       "\t<tr><td>10.05</td><td>2.03</td><td>3.5</td><td>1.28</td><td>1</td><td>0.6440</td><td>AAA</td></tr>\n",
       "\t<tr><td> 1.44</td><td>2.80</td><td>4.4</td><td>1.87</td><td>1</td><td>0.6210</td><td>AAA</td></tr>\n",
       "\t<tr><td>11.48</td><td>2.80</td><td>4.6</td><td>1.98</td><td>1</td><td>0.5635</td><td>AAA</td></tr>\n",
       "\t<tr><td>12.10</td><td>3.43</td><td>3.6</td><td>2.41</td><td>1</td><td>0.5980</td><td>AAA</td></tr>\n",
       "\t<tr><td> 4.72</td><td>2.24</td><td>3.5</td><td>1.34</td><td>1</td><td>0.6325</td><td>AAA</td></tr>\n",
       "\t<tr><td>13.74</td><td>2.73</td><td>4.6</td><td>2.03</td><td>1</td><td>0.4140</td><td>AAA</td></tr>\n",
       "</tbody>\n",
       "</table>\n"
      ],
      "text/latex": [
       "A data.frame: 6 × 7\n",
       "\\begin{tabular}{r|lllllll}\n",
       " P.E & P.B & EPS & P.S & US & PEG & RATING\\\\\n",
       " <dbl> & <dbl> & <dbl> & <dbl> & <int> & <dbl> & <fct>\\\\\n",
       "\\hline\n",
       "\t 10.05 & 2.03 & 3.5 & 1.28 & 1 & 0.6440 & AAA\\\\\n",
       "\t  1.44 & 2.80 & 4.4 & 1.87 & 1 & 0.6210 & AAA\\\\\n",
       "\t 11.48 & 2.80 & 4.6 & 1.98 & 1 & 0.5635 & AAA\\\\\n",
       "\t 12.10 & 3.43 & 3.6 & 2.41 & 1 & 0.5980 & AAA\\\\\n",
       "\t  4.72 & 2.24 & 3.5 & 1.34 & 1 & 0.6325 & AAA\\\\\n",
       "\t 13.74 & 2.73 & 4.6 & 2.03 & 1 & 0.4140 & AAA\\\\\n",
       "\\end{tabular}\n"
      ],
      "text/markdown": [
       "\n",
       "A data.frame: 6 × 7\n",
       "\n",
       "| P.E &lt;dbl&gt; | P.B &lt;dbl&gt; | EPS &lt;dbl&gt; | P.S &lt;dbl&gt; | US &lt;int&gt; | PEG &lt;dbl&gt; | RATING &lt;fct&gt; |\n",
       "|---|---|---|---|---|---|---|\n",
       "| 10.05 | 2.03 | 3.5 | 1.28 | 1 | 0.6440 | AAA |\n",
       "|  1.44 | 2.80 | 4.4 | 1.87 | 1 | 0.6210 | AAA |\n",
       "| 11.48 | 2.80 | 4.6 | 1.98 | 1 | 0.5635 | AAA |\n",
       "| 12.10 | 3.43 | 3.6 | 2.41 | 1 | 0.5980 | AAA |\n",
       "|  4.72 | 2.24 | 3.5 | 1.34 | 1 | 0.6325 | AAA |\n",
       "| 13.74 | 2.73 | 4.6 | 2.03 | 1 | 0.4140 | AAA |\n",
       "\n"
      ],
      "text/plain": [
       "  P.E   P.B  EPS P.S  US PEG    RATING\n",
       "1 10.05 2.03 3.5 1.28 1  0.6440 AAA   \n",
       "2  1.44 2.80 4.4 1.87 1  0.6210 AAA   \n",
       "3 11.48 2.80 4.6 1.98 1  0.5635 AAA   \n",
       "4 12.10 3.43 3.6 2.41 1  0.5980 AAA   \n",
       "5  4.72 2.24 3.5 1.34 1  0.6325 AAA   \n",
       "6 13.74 2.73 4.6 2.03 1  0.4140 AAA   "
      ]
     },
     "metadata": {},
     "output_type": "display_data"
    }
   ],
   "source": [
    "head(df)"
   ]
  },
  {
   "cell_type": "code",
   "execution_count": 4,
   "metadata": {},
   "outputs": [
    {
     "name": "stderr",
     "output_type": "stream",
     "text": [
      "Warning message in createDataPartition(df$RATING, p = 0.7, list = FALSE):\n",
      "\"Some classes have a single record ( AA+ ) and these will be selected for the sample\""
     ]
    }
   ],
   "source": [
    "set.seed(1422)\n",
    "\n",
    "trainIndex <- createDataPartition(df$RATING, p = .7, list = FALSE)\n",
    "\n",
    "dfTrain <- df[ trainIndex,]\n",
    "dfTest  <- df[-trainIndex,]"
   ]
  },
  {
   "cell_type": "code",
   "execution_count": 5,
   "metadata": {},
   "outputs": [
    {
     "data": {
      "text/plain": [
       "Support Vector Machines with Linear Kernel \n",
       "\n",
       "223 samples\n",
       "  6 predictor\n",
       "  8 classes: 'A', 'A-', 'A+', 'AA', 'AA-', 'AA+', 'AAA', 'BB+' \n",
       "\n",
       "Pre-processing: centered (6), scaled (6) \n",
       "Resampling: Cross-Validated (10 fold, repeated 1 times) \n",
       "Summary of sample sizes: 200, 202, 200, 201, 202, 201, ... \n",
       "Resampling results:\n",
       "\n",
       "  Accuracy   Kappa    \n",
       "  0.8141963  0.7500417\n",
       "\n",
       "Tuning parameter 'C' was held constant at a value of 1"
      ]
     },
     "metadata": {},
     "output_type": "display_data"
    }
   ],
   "source": [
    "cv <- trainControl(method = \"repeatedcv\", number = 10, savePredictions = TRUE)\n",
    "\n",
    "model_linear <- train(RATING~., data = dfTrain, method = \"svmLinear\", trControl = cv, \n",
    "               preProcess = c(\"center\", \"scale\"))\n",
    "\n",
    "model_linear"
   ]
  },
  {
   "cell_type": "code",
   "execution_count": 6,
   "metadata": {},
   "outputs": [
    {
     "data": {
      "text/plain": [
       "Confusion Matrix and Statistics\n",
       "\n",
       "          Reference\n",
       "Prediction  A A- A+ AA AA- AA+ AAA BB+\n",
       "       A   20  0  0  3   0   0   0   0\n",
       "       A-   0  1  0  0   0   0   0   0\n",
       "       A+   0  0  5  0   0   0   0   0\n",
       "       AA   2  0  0  3   0   0   0   0\n",
       "       AA-  0  0  0  0   0   0   0   0\n",
       "       AA+  0  0  0  0   0   0   0   0\n",
       "       AAA  1  0  0  1   0   0  41   1\n",
       "       BB+  0  0  1  0   0   0   1  11\n",
       "\n",
       "Overall Statistics\n",
       "                                         \n",
       "               Accuracy : 0.8901         \n",
       "                 95% CI : (0.8072, 0.946)\n",
       "    No Information Rate : 0.4615         \n",
       "    P-Value [Acc > NIR] : < 2.2e-16      \n",
       "                                         \n",
       "                  Kappa : 0.8398         \n",
       " Mcnemar's Test P-Value : NA             \n",
       "\n",
       "Statistics by Class:\n",
       "\n",
       "                     Class: A Class: A- Class: A+ Class: AA Class: AA-\n",
       "Sensitivity            0.8696   1.00000   0.83333   0.42857         NA\n",
       "Specificity            0.9559   1.00000   1.00000   0.97619          1\n",
       "Pos Pred Value         0.8696   1.00000   1.00000   0.60000         NA\n",
       "Neg Pred Value         0.9559   1.00000   0.98837   0.95349         NA\n",
       "Prevalence             0.2527   0.01099   0.06593   0.07692          0\n",
       "Detection Rate         0.2198   0.01099   0.05495   0.03297          0\n",
       "Detection Prevalence   0.2527   0.01099   0.05495   0.05495          0\n",
       "Balanced Accuracy      0.9127   1.00000   0.91667   0.70238         NA\n",
       "                     Class: AA+ Class: AAA Class: BB+\n",
       "Sensitivity                  NA     0.9762     0.9167\n",
       "Specificity                   1     0.9388     0.9747\n",
       "Pos Pred Value               NA     0.9318     0.8462\n",
       "Neg Pred Value               NA     0.9787     0.9872\n",
       "Prevalence                    0     0.4615     0.1319\n",
       "Detection Rate                0     0.4505     0.1209\n",
       "Detection Prevalence          0     0.4835     0.1429\n",
       "Balanced Accuracy            NA     0.9575     0.9457"
      ]
     },
     "metadata": {},
     "output_type": "display_data"
    }
   ],
   "source": [
    "dfPred <- predict(model_linear, newdata=dfTest)\n",
    "confusionMatrix(data=dfPred, dfTest$RATING)"
   ]
  },
  {
   "cell_type": "code",
   "execution_count": 7,
   "metadata": {},
   "outputs": [
    {
     "data": {
      "text/plain": [
       "ROC curve variable importance\n",
       "\n",
       "  variables are sorted by maximum importance across the classes\n",
       "         A     A.   A..1     AA    AA.  AA..1    AAA    BB.\n",
       "US  1.0000 1.0000 1.0000 1.0000 1.0000 1.0000 1.0000 0.5357\n",
       "P.S 0.9848 0.9792 0.9792 0.9815 0.9960 0.9792 0.9792 0.9848\n",
       "EPS 0.9815 0.9815 0.9815 0.9815 0.9815 0.9815 0.9815 0.9636\n",
       "P.E 0.8657 0.8725 0.8796 0.9630 0.8657 0.8657 0.8657 0.8725\n",
       "P.B 0.9372 0.6111 0.6111 0.7407 0.7759 0.9040 0.9375 0.9372\n",
       "PEG 0.9021 0.5486 0.5741 0.8796 0.7614 0.7883 0.9107 0.9021"
      ]
     },
     "metadata": {},
     "output_type": "display_data"
    },
    {
     "data": {
      "image/png": "[encoded data removed]",
      "text/plain": [
       "plot without title"
      ]
     },
     "metadata": {},
     "output_type": "display_data"
    }
   ],
   "source": [
    "imp <- varImp(model_linear, useModel=FALSE, scale=FALSE)\n",
    "imp\n",
    "plot(imp)"
   ]
  },
  {
   "cell_type": "code",
   "execution_count": 8,
   "metadata": {},
   "outputs": [
    {
     "data": {
      "text/plain": [
       "Support Vector Machines with Radial Basis Function Kernel \n",
       "\n",
       "223 samples\n",
       "  6 predictor\n",
       "  8 classes: 'A', 'A-', 'A+', 'AA', 'AA-', 'AA+', 'AAA', 'BB+' \n",
       "\n",
       "Pre-processing: centered (6), scaled (6) \n",
       "Resampling: Cross-Validated (10 fold, repeated 1 times) \n",
       "Summary of sample sizes: 200, 202, 200, 202, 201, 199, ... \n",
       "Resampling results across tuning parameters:\n",
       "\n",
       "  C     Accuracy   Kappa    \n",
       "  0.25  0.7881423  0.7115826\n",
       "  0.50  0.8061288  0.7377667\n",
       "  1.00  0.8376412  0.7858820\n",
       "\n",
       "Tuning parameter 'sigma' was held constant at a value of 0.3283525\n",
       "Accuracy was used to select the optimal model using the largest value.\n",
       "The final values used for the model were sigma = 0.3283525 and C = 1."
      ]
     },
     "metadata": {},
     "output_type": "display_data"
    }
   ],
   "source": [
    "cv <- trainControl(method = \"repeatedcv\", number = 10, savePredictions = TRUE)\n",
    "\n",
    "model_rd <- train(RATING~., data = dfTrain, method = \"svmRadial\", trControl = cv, \n",
    "               preProcess = c(\"center\", \"scale\"))\n",
    "\n",
    "model_rd"
   ]
  },
  {
   "cell_type": "code",
   "execution_count": 9,
   "metadata": {},
   "outputs": [
    {
     "data": {
      "text/plain": [
       "Confusion Matrix and Statistics\n",
       "\n",
       "          Reference\n",
       "Prediction  A A- A+ AA AA- AA+ AAA BB+\n",
       "       A   20  0  0  5   0   0   0   0\n",
       "       A-   0  1  0  0   0   0   0   0\n",
       "       A+   0  0  6  0   0   0   0   0\n",
       "       AA   2  0  0  2   0   0   0   0\n",
       "       AA-  0  0  0  0   0   0   0   0\n",
       "       AA+  0  0  0  0   0   0   0   0\n",
       "       AAA  1  0  0  0   0   0  40   1\n",
       "       BB+  0  0  0  0   0   0   2  11\n",
       "\n",
       "Overall Statistics\n",
       "                                         \n",
       "               Accuracy : 0.8791         \n",
       "                 95% CI : (0.794, 0.9381)\n",
       "    No Information Rate : 0.4615         \n",
       "    P-Value [Acc > NIR] : < 2.2e-16      \n",
       "                                         \n",
       "                  Kappa : 0.825          \n",
       " Mcnemar's Test P-Value : NA             \n",
       "\n",
       "Statistics by Class:\n",
       "\n",
       "                     Class: A Class: A- Class: A+ Class: AA Class: AA-\n",
       "Sensitivity            0.8696   1.00000   1.00000   0.28571         NA\n",
       "Specificity            0.9265   1.00000   1.00000   0.97619          1\n",
       "Pos Pred Value         0.8000   1.00000   1.00000   0.50000         NA\n",
       "Neg Pred Value         0.9545   1.00000   1.00000   0.94253         NA\n",
       "Prevalence             0.2527   0.01099   0.06593   0.07692          0\n",
       "Detection Rate         0.2198   0.01099   0.06593   0.02198          0\n",
       "Detection Prevalence   0.2747   0.01099   0.06593   0.04396          0\n",
       "Balanced Accuracy      0.8980   1.00000   1.00000   0.63095         NA\n",
       "                     Class: AA+ Class: AAA Class: BB+\n",
       "Sensitivity                  NA     0.9524     0.9167\n",
       "Specificity                   1     0.9592     0.9747\n",
       "Pos Pred Value               NA     0.9524     0.8462\n",
       "Neg Pred Value               NA     0.9592     0.9872\n",
       "Prevalence                    0     0.4615     0.1319\n",
       "Detection Rate                0     0.4396     0.1209\n",
       "Detection Prevalence          0     0.4615     0.1429\n",
       "Balanced Accuracy            NA     0.9558     0.9457"
      ]
     },
     "metadata": {},
     "output_type": "display_data"
    }
   ],
   "source": [
    "dfPred <- predict(model_rd, newdata=dfTest)\n",
    "confusionMatrix(data=dfPred, dfTest$RATING)"
   ]
  },
  {
   "cell_type": "code",
   "execution_count": 10,
   "metadata": {},
   "outputs": [
    {
     "data": {
      "text/plain": [
       "ROC curve variable importance\n",
       "\n",
       "  variables are sorted by maximum importance across the classes\n",
       "         A     A.   A..1     AA    AA.  AA..1    AAA    BB.\n",
       "US  1.0000 1.0000 1.0000 1.0000 1.0000 1.0000 1.0000 0.5357\n",
       "P.S 0.9848 0.9792 0.9792 0.9815 0.9960 0.9792 0.9792 0.9848\n",
       "EPS 0.9815 0.9815 0.9815 0.9815 0.9815 0.9815 0.9815 0.9636\n",
       "P.E 0.8657 0.8725 0.8796 0.9630 0.8657 0.8657 0.8657 0.8725\n",
       "P.B 0.9372 0.6111 0.6111 0.7407 0.7759 0.9040 0.9375 0.9372\n",
       "PEG 0.9021 0.5486 0.5741 0.8796 0.7614 0.7883 0.9107 0.9021"
      ]
     },
     "metadata": {},
     "output_type": "display_data"
    },
    {
     "data": {
      "image/png": "[encoded data removed]",
      "text/plain": [
       "plot without title"
      ]
     },
     "metadata": {},
     "output_type": "display_data"
    }
   ],
   "source": [
    "imp <- varImp(model_rd, useModel=FALSE, scale=FALSE)\n",
    "imp\n",
    "plot(imp)"
   ]
  },
  {
   "cell_type": "code",
   "execution_count": 11,
   "metadata": {},
   "outputs": [],
   "source": [
    "apple <- data.frame(\"P/E\"= 15.45, \"P/B\"= 7.53, \"EPS\"=12.15 , \n",
    "                    \"P/S\"=3.47 , \"US\"=1 , \"PEG\"=1.74)"
   ]
  },
  {
   "cell_type": "code",
   "execution_count": 12,
   "metadata": {},
   "outputs": [
    {
     "data": {
      "text/html": [
       "<table>\n",
       "<caption>A data.frame: 1 × 7</caption>\n",
       "<thead>\n",
       "\t<tr><th scope=col>P.E</th><th scope=col>P.B</th><th scope=col>EPS</th><th scope=col>P.S</th><th scope=col>US</th><th scope=col>PEG</th><th scope=col>Model_Linear</th></tr>\n",
       "\t<tr><th scope=col>&lt;dbl&gt;</th><th scope=col>&lt;dbl&gt;</th><th scope=col>&lt;dbl&gt;</th><th scope=col>&lt;dbl&gt;</th><th scope=col>&lt;dbl&gt;</th><th scope=col>&lt;dbl&gt;</th><th scope=col>&lt;fct&gt;</th></tr>\n",
       "</thead>\n",
       "<tbody>\n",
       "\t<tr><td>15.45</td><td>7.53</td><td>12.15</td><td>3.47</td><td>1</td><td>1.74</td><td>A+</td></tr>\n",
       "</tbody>\n",
       "</table>\n"
      ],
      "text/latex": [
       "A data.frame: 1 × 7\n",
       "\\begin{tabular}{r|lllllll}\n",
       " P.E & P.B & EPS & P.S & US & PEG & Model\\_Linear\\\\\n",
       " <dbl> & <dbl> & <dbl> & <dbl> & <dbl> & <dbl> & <fct>\\\\\n",
       "\\hline\n",
       "\t 15.45 & 7.53 & 12.15 & 3.47 & 1 & 1.74 & A+\\\\\n",
       "\\end{tabular}\n"
      ],
      "text/markdown": [
       "\n",
       "A data.frame: 1 × 7\n",
       "\n",
       "| P.E &lt;dbl&gt; | P.B &lt;dbl&gt; | EPS &lt;dbl&gt; | P.S &lt;dbl&gt; | US &lt;dbl&gt; | PEG &lt;dbl&gt; | Model_Linear &lt;fct&gt; |\n",
       "|---|---|---|---|---|---|---|\n",
       "| 15.45 | 7.53 | 12.15 | 3.47 | 1 | 1.74 | A+ |\n",
       "\n"
      ],
      "text/plain": [
       "  P.E   P.B  EPS   P.S  US PEG  Model_Linear\n",
       "1 15.45 7.53 12.15 3.47 1  1.74 A+          "
      ]
     },
     "metadata": {},
     "output_type": "display_data"
    }
   ],
   "source": [
    "y_Model <- predict(model_linear, apple)\n",
    "apple$Model_Linear <- y_Model\n",
    "head(apple)"
   ]
  },
  {
   "cell_type": "code",
   "execution_count": 13,
   "metadata": {},
   "outputs": [
    {
     "data": {
      "text/html": [
       "<table>\n",
       "<caption>A data.frame: 1 × 8</caption>\n",
       "<thead>\n",
       "\t<tr><th scope=col>P.E</th><th scope=col>P.B</th><th scope=col>EPS</th><th scope=col>P.S</th><th scope=col>US</th><th scope=col>PEG</th><th scope=col>Model_Linear</th><th scope=col>Model_Radial</th></tr>\n",
       "\t<tr><th scope=col>&lt;dbl&gt;</th><th scope=col>&lt;dbl&gt;</th><th scope=col>&lt;dbl&gt;</th><th scope=col>&lt;dbl&gt;</th><th scope=col>&lt;dbl&gt;</th><th scope=col>&lt;dbl&gt;</th><th scope=col>&lt;fct&gt;</th><th scope=col>&lt;fct&gt;</th></tr>\n",
       "</thead>\n",
       "<tbody>\n",
       "\t<tr><td>15.45</td><td>7.53</td><td>12.15</td><td>3.47</td><td>1</td><td>1.74</td><td>A+</td><td>A</td></tr>\n",
       "</tbody>\n",
       "</table>\n"
      ],
      "text/latex": [
       "A data.frame: 1 × 8\n",
       "\\begin{tabular}{r|llllllll}\n",
       " P.E & P.B & EPS & P.S & US & PEG & Model\\_Linear & Model\\_Radial\\\\\n",
       " <dbl> & <dbl> & <dbl> & <dbl> & <dbl> & <dbl> & <fct> & <fct>\\\\\n",
       "\\hline\n",
       "\t 15.45 & 7.53 & 12.15 & 3.47 & 1 & 1.74 & A+ & A\\\\\n",
       "\\end{tabular}\n"
      ],
      "text/markdown": [
       "\n",
       "A data.frame: 1 × 8\n",
       "\n",
       "| P.E &lt;dbl&gt; | P.B &lt;dbl&gt; | EPS &lt;dbl&gt; | P.S &lt;dbl&gt; | US &lt;dbl&gt; | PEG &lt;dbl&gt; | Model_Linear &lt;fct&gt; | Model_Radial &lt;fct&gt; |\n",
       "|---|---|---|---|---|---|---|---|\n",
       "| 15.45 | 7.53 | 12.15 | 3.47 | 1 | 1.74 | A+ | A |\n",
       "\n"
      ],
      "text/plain": [
       "  P.E   P.B  EPS   P.S  US PEG  Model_Linear Model_Radial\n",
       "1 15.45 7.53 12.15 3.47 1  1.74 A+           A           "
      ]
     },
     "metadata": {},
     "output_type": "display_data"
    }
   ],
   "source": [
    "y_Model <- predict(model_rd, apple)\n",
    "apple$Model_Radial <- y_Model\n",
    "head(apple)"
   ]
  },
  {
   "cell_type": "code",
   "execution_count": null,
   "metadata": {},
   "outputs": [],
   "source": []
  }
 ],
 "metadata": {
  "kernelspec": {
   "display_name": "R",
   "language": "R",
   "name": "ir"
  },
  "language_info": {
   "codemirror_mode": "r",
   "file_extension": ".r",
   "mimetype": "text/x-r-source",
   "name": "R",
   "pygments_lexer": "r",
   "version": "3.5.2"
  }
 },
 "nbformat": 4,
 "nbformat_minor": 2
}
