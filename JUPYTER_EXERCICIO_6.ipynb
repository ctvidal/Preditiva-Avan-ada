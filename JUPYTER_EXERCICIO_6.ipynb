{
 "cells": [
  {
   "cell_type": "code",
   "execution_count": 2,
   "metadata": {},
   "outputs": [
    {
     "name": "stderr",
     "output_type": "stream",
     "text": [
      "Loading required package: lattice\n",
      "Loading required package: ggplot2\n",
      "Warning message:\n",
      "\"package 'mlbench' was built under R version 3.5.3\"Loading required package: foreach\n",
      "Loading required package: iterators\n",
      "Package 'GA' version 3.1.1\n",
      "Type 'citation(\"GA\")' for citing this R package in publications.\n",
      "Warning message:\n",
      "\"package 'doParallel' was built under R version 3.5.3\"Loading required package: parallel\n"
     ]
    }
   ],
   "source": [
    "library(caret)\n",
    "library(mlbench)\n",
    "library(GA)\n",
    "library(doParallel)"
   ]
  },
  {
   "cell_type": "code",
   "execution_count": 28,
   "metadata": {},
   "outputs": [],
   "source": [
    "p <- \"E:\\\\1.DATA_ANALYTICS\\\\17-Analise Preditiva Avancada\\\\Exercicio_6\\\\GA_Exercise.csv\"\n",
    "df <- read.csv(file= p, header=TRUE, sep=\";\")"
   ]
  },
  {
   "cell_type": "code",
   "execution_count": 29,
   "metadata": {},
   "outputs": [
    {
     "data": {
      "text/html": [
       "<table>\n",
       "<caption>A data.frame: 6 × 15</caption>\n",
       "<thead>\n",
       "\t<tr><th scope=col>AGE</th><th scope=col>WORKCLASS</th><th scope=col>FNLWGT</th><th scope=col>EDUCATION</th><th scope=col>EDU_NUM</th><th scope=col>MARITAL_STATUS</th><th scope=col>OCCUPATION</th><th scope=col>RELATIONSHIP</th><th scope=col>RACE</th><th scope=col>SEX</th><th scope=col>CAPITAL_GAIN</th><th scope=col>CAPITAL_LOSS</th><th scope=col>HOURS_PER_WEEK</th><th scope=col>COUNTRY</th><th scope=col>INCOME</th></tr>\n",
       "\t<tr><th scope=col>&lt;int&gt;</th><th scope=col>&lt;fct&gt;</th><th scope=col>&lt;int&gt;</th><th scope=col>&lt;fct&gt;</th><th scope=col>&lt;int&gt;</th><th scope=col>&lt;fct&gt;</th><th scope=col>&lt;fct&gt;</th><th scope=col>&lt;fct&gt;</th><th scope=col>&lt;fct&gt;</th><th scope=col>&lt;fct&gt;</th><th scope=col>&lt;int&gt;</th><th scope=col>&lt;int&gt;</th><th scope=col>&lt;int&gt;</th><th scope=col>&lt;fct&gt;</th><th scope=col>&lt;fct&gt;</th></tr>\n",
       "</thead>\n",
       "<tbody>\n",
       "\t<tr><td>39</td><td> State-gov       </td><td> 77516</td><td> Bachelors</td><td>13</td><td> Never-married     </td><td> Adm-clerical     </td><td> Not-in-family</td><td> White</td><td> Male  </td><td>2174</td><td>0</td><td>40</td><td> United-States</td><td>B</td></tr>\n",
       "\t<tr><td>50</td><td> Self-emp-not-inc</td><td> 83311</td><td> Bachelors</td><td>13</td><td> Married-civ-spouse</td><td> Exec-managerial  </td><td> Husband      </td><td> White</td><td> Male  </td><td>   0</td><td>0</td><td>13</td><td> United-States</td><td>B</td></tr>\n",
       "\t<tr><td>38</td><td> Private         </td><td>215646</td><td> HS-grad  </td><td> 9</td><td> Divorced          </td><td> Handlers-cleaners</td><td> Not-in-family</td><td> White</td><td> Male  </td><td>   0</td><td>0</td><td>40</td><td> United-States</td><td>B</td></tr>\n",
       "\t<tr><td>53</td><td> Private         </td><td>234721</td><td> 11th     </td><td> 7</td><td> Married-civ-spouse</td><td> Handlers-cleaners</td><td> Husband      </td><td> Black</td><td> Male  </td><td>   0</td><td>0</td><td>40</td><td> United-States</td><td>B</td></tr>\n",
       "\t<tr><td>28</td><td> Private         </td><td>338409</td><td> Bachelors</td><td>13</td><td> Married-civ-spouse</td><td> Prof-specialty   </td><td> Wife         </td><td> Black</td><td> Female</td><td>   0</td><td>0</td><td>40</td><td> Cuba         </td><td>B</td></tr>\n",
       "\t<tr><td>37</td><td> Private         </td><td>284582</td><td> Masters  </td><td>14</td><td> Married-civ-spouse</td><td> Exec-managerial  </td><td> Wife         </td><td> White</td><td> Female</td><td>   0</td><td>0</td><td>40</td><td> United-States</td><td>B</td></tr>\n",
       "</tbody>\n",
       "</table>\n"
      ],
      "text/latex": [
       "A data.frame: 6 × 15\n",
       "\\begin{tabular}{r|lllllllllllllll}\n",
       " AGE & WORKCLASS & FNLWGT & EDUCATION & EDU\\_NUM & MARITAL\\_STATUS & OCCUPATION & RELATIONSHIP & RACE & SEX & CAPITAL\\_GAIN & CAPITAL\\_LOSS & HOURS\\_PER\\_WEEK & COUNTRY & INCOME\\\\\n",
       " <int> & <fct> & <int> & <fct> & <int> & <fct> & <fct> & <fct> & <fct> & <fct> & <int> & <int> & <int> & <fct> & <fct>\\\\\n",
       "\\hline\n",
       "\t 39 &  State-gov        &  77516 &  Bachelors & 13 &  Never-married      &  Adm-clerical      &  Not-in-family &  White &  Male   & 2174 & 0 & 40 &  United-States & B\\\\\n",
       "\t 50 &  Self-emp-not-inc &  83311 &  Bachelors & 13 &  Married-civ-spouse &  Exec-managerial   &  Husband       &  White &  Male   &    0 & 0 & 13 &  United-States & B\\\\\n",
       "\t 38 &  Private          & 215646 &  HS-grad   &  9 &  Divorced           &  Handlers-cleaners &  Not-in-family &  White &  Male   &    0 & 0 & 40 &  United-States & B\\\\\n",
       "\t 53 &  Private          & 234721 &  11th      &  7 &  Married-civ-spouse &  Handlers-cleaners &  Husband       &  Black &  Male   &    0 & 0 & 40 &  United-States & B\\\\\n",
       "\t 28 &  Private          & 338409 &  Bachelors & 13 &  Married-civ-spouse &  Prof-specialty    &  Wife          &  Black &  Female &    0 & 0 & 40 &  Cuba          & B\\\\\n",
       "\t 37 &  Private          & 284582 &  Masters   & 14 &  Married-civ-spouse &  Exec-managerial   &  Wife          &  White &  Female &    0 & 0 & 40 &  United-States & B\\\\\n",
       "\\end{tabular}\n"
      ],
      "text/markdown": [
       "\n",
       "A data.frame: 6 × 15\n",
       "\n",
       "| AGE &lt;int&gt; | WORKCLASS &lt;fct&gt; | FNLWGT &lt;int&gt; | EDUCATION &lt;fct&gt; | EDU_NUM &lt;int&gt; | MARITAL_STATUS &lt;fct&gt; | OCCUPATION &lt;fct&gt; | RELATIONSHIP &lt;fct&gt; | RACE &lt;fct&gt; | SEX &lt;fct&gt; | CAPITAL_GAIN &lt;int&gt; | CAPITAL_LOSS &lt;int&gt; | HOURS_PER_WEEK &lt;int&gt; | COUNTRY &lt;fct&gt; | INCOME &lt;fct&gt; |\n",
       "|---|---|---|---|---|---|---|---|---|---|---|---|---|---|---|\n",
       "| 39 |  State-gov        |  77516 |  Bachelors | 13 |  Never-married      |  Adm-clerical      |  Not-in-family |  White |  Male   | 2174 | 0 | 40 |  United-States | B |\n",
       "| 50 |  Self-emp-not-inc |  83311 |  Bachelors | 13 |  Married-civ-spouse |  Exec-managerial   |  Husband       |  White |  Male   |    0 | 0 | 13 |  United-States | B |\n",
       "| 38 |  Private          | 215646 |  HS-grad   |  9 |  Divorced           |  Handlers-cleaners |  Not-in-family |  White |  Male   |    0 | 0 | 40 |  United-States | B |\n",
       "| 53 |  Private          | 234721 |  11th      |  7 |  Married-civ-spouse |  Handlers-cleaners |  Husband       |  Black |  Male   |    0 | 0 | 40 |  United-States | B |\n",
       "| 28 |  Private          | 338409 |  Bachelors | 13 |  Married-civ-spouse |  Prof-specialty    |  Wife          |  Black |  Female |    0 | 0 | 40 |  Cuba          | B |\n",
       "| 37 |  Private          | 284582 |  Masters   | 14 |  Married-civ-spouse |  Exec-managerial   |  Wife          |  White |  Female |    0 | 0 | 40 |  United-States | B |\n",
       "\n"
      ],
      "text/plain": [
       "  AGE WORKCLASS         FNLWGT EDUCATION  EDU_NUM MARITAL_STATUS     \n",
       "1 39   State-gov         77516  Bachelors 13       Never-married     \n",
       "2 50   Self-emp-not-inc  83311  Bachelors 13       Married-civ-spouse\n",
       "3 38   Private          215646  HS-grad    9       Divorced          \n",
       "4 53   Private          234721  11th       7       Married-civ-spouse\n",
       "5 28   Private          338409  Bachelors 13       Married-civ-spouse\n",
       "6 37   Private          284582  Masters   14       Married-civ-spouse\n",
       "  OCCUPATION         RELATIONSHIP   RACE   SEX     CAPITAL_GAIN CAPITAL_LOSS\n",
       "1  Adm-clerical       Not-in-family  White  Male   2174         0           \n",
       "2  Exec-managerial    Husband        White  Male      0         0           \n",
       "3  Handlers-cleaners  Not-in-family  White  Male      0         0           \n",
       "4  Handlers-cleaners  Husband        Black  Male      0         0           \n",
       "5  Prof-specialty     Wife           Black  Female    0         0           \n",
       "6  Exec-managerial    Wife           White  Female    0         0           \n",
       "  HOURS_PER_WEEK COUNTRY        INCOME\n",
       "1 40              United-States B     \n",
       "2 13              United-States B     \n",
       "3 40              United-States B     \n",
       "4 40              United-States B     \n",
       "5 40              Cuba          B     \n",
       "6 40              United-States B     "
      ]
     },
     "metadata": {},
     "output_type": "display_data"
    }
   ],
   "source": [
    "head(df)"
   ]
  },
  {
   "cell_type": "code",
   "execution_count": 30,
   "metadata": {},
   "outputs": [],
   "source": [
    "set.seed(314)\n",
    "options(warn=-1)\n",
    "\n",
    "# Particionamentos dos Dados\n",
    "trainIndex <- createDataPartition(df$INCOME,p=.7,list=FALSE)\n",
    "\n",
    "trainData <- df[trainIndex,]\n",
    "testData <- df[-trainIndex,]\n",
    "\n",
    "trainX <-trainData[,-ncol(trainData)]\n",
    "testX <- testData[,-ncol(trainData)]\n",
    "y <- trainData$INCOME"
   ]
  },
  {
   "cell_type": "code",
   "execution_count": 31,
   "metadata": {},
   "outputs": [
    {
     "data": {
      "text/plain": [
       "Confusion Matrix and Statistics\n",
       "\n",
       "          Reference\n",
       "Prediction   A   B\n",
       "         A  21  12\n",
       "         B  28 153\n",
       "                                         \n",
       "               Accuracy : 0.8131         \n",
       "                 95% CI : (0.7543, 0.863)\n",
       "    No Information Rate : 0.771          \n",
       "    P-Value [Acc > NIR] : 0.08105        \n",
       "                                         \n",
       "                  Kappa : 0.402          \n",
       " Mcnemar's Test P-Value : 0.01771        \n",
       "                                         \n",
       "            Sensitivity : 0.42857        \n",
       "            Specificity : 0.92727        \n",
       "         Pos Pred Value : 0.63636        \n",
       "         Neg Pred Value : 0.84530        \n",
       "             Prevalence : 0.22897        \n",
       "         Detection Rate : 0.09813        \n",
       "   Detection Prevalence : 0.15421        \n",
       "      Balanced Accuracy : 0.67792        \n",
       "                                         \n",
       "       'Positive' Class : A              \n",
       "                                         "
      ]
     },
     "metadata": {},
     "output_type": "display_data"
    }
   ],
   "source": [
    "# Modelo Sem Feature Selection\n",
    "set.seed(314)\n",
    "cv <- trainControl(method = \"repeatedcv\", number = 10, \n",
    "                   savePredictions = TRUE, classProbs=TRUE)\n",
    "\n",
    "model_5.0 <- train(INCOME~. , data = trainData, method = \"C5.0Tree\",\n",
    "                   trControl = cv, \n",
    "                   na.action=na.exclude)\n",
    "\n",
    "\n",
    "pred_5.0 <- predict(model_5.0 ,newdata=testData)\n",
    "confusionMatrix(data=pred_5.0, testData$INCOME)"
   ]
  },
  {
   "cell_type": "code",
   "execution_count": 32,
   "metadata": {},
   "outputs": [
    {
     "data": {
      "text/html": [
       "4"
      ],
      "text/latex": [
       "4"
      ],
      "text/markdown": [
       "4"
      ],
      "text/plain": [
       "[1] 4"
      ]
     },
     "metadata": {},
     "output_type": "display_data"
    },
    {
     "data": {
      "text/plain": [
       "\n",
       "Genetic Algorithm Feature Selection\n",
       "\n",
       "504 samples\n",
       "14 predictors\n",
       "2 classes: 'A', 'B' \n",
       "\n",
       "Maximum generations: 2 \n",
       "Population per generation: 2 \n",
       "Crossover probability: 0.8 \n",
       "Mutation probability: 0.1 \n",
       "Elitism: 0 \n",
       "\n",
       "Internal performance values: Accuracy, Kappa\n",
       "Subset selection driven to maximize internal Accuracy \n",
       "\n",
       "External performance values: Accuracy, Kappa\n",
       "Best iteration chose by maximizing external Accuracy \n",
       "External resampling method: Cross-Validated (10 fold) \n",
       "\n",
       "During resampling:\n",
       "  * the top 5 selected variables (out of a possible 14):\n",
       "    EDUCATION (90%), RELATIONSHIP (90%), OCCUPATION (80%), AGE (70%), EDU_NUM (70%)\n",
       "  * on average, 9.4 variables were selected (min = 2, max = 14)\n",
       "\n",
       "In the final search using the entire training set:\n",
       "   * 14 features selected at iteration 2 including:\n",
       "     AGE, WORKCLASS, FNLWGT, EDUCATION, EDU_NUM ... \n",
       "   * external performance at this iteration is\n",
       "\n",
       "   Accuracy       Kappa \n",
       "     0.8196      0.4328 \n"
      ]
     },
     "metadata": {},
     "output_type": "display_data"
    }
   ],
   "source": [
    "registerDoParallel(4) \n",
    "getDoParWorkers() \n",
    "\n",
    "set.seed(314)\n",
    "ctrl <- gafsControl(functions = caretGA,\n",
    "                    genParallel=TRUE,\n",
    "                    allowParallel=TRUE,\n",
    "                    method = \"cv\")\n",
    "\n",
    "                     \n",
    "obj <- gafs(x = trainX,\n",
    "            y = y,\n",
    "            iters = 2,\n",
    "            popSize = 2,\n",
    "            gafsControl = ctrl,\n",
    "            method = \"C5.0Tree\")\n",
    "\n",
    "obj"
   ]
  },
  {
   "cell_type": "code",
   "execution_count": 39,
   "metadata": {},
   "outputs": [
    {
     "data": {
      "text/html": [
       "<ol class=list-inline>\n",
       "\t<li>'AGE'</li>\n",
       "\t<li>'WORKCLASS'</li>\n",
       "\t<li>'FNLWGT'</li>\n",
       "\t<li>'EDUCATION'</li>\n",
       "\t<li>'EDU_NUM'</li>\n",
       "\t<li>'MARITAL_STATUS'</li>\n",
       "\t<li>'OCCUPATION'</li>\n",
       "\t<li>'RELATIONSHIP'</li>\n",
       "\t<li>'RACE'</li>\n",
       "\t<li>'SEX'</li>\n",
       "\t<li>'CAPITAL_GAIN'</li>\n",
       "\t<li>'CAPITAL_LOSS'</li>\n",
       "\t<li>'HOURS_PER_WEEK'</li>\n",
       "\t<li>'COUNTRY'</li>\n",
       "</ol>\n"
      ],
      "text/latex": [
       "\\begin{enumerate*}\n",
       "\\item 'AGE'\n",
       "\\item 'WORKCLASS'\n",
       "\\item 'FNLWGT'\n",
       "\\item 'EDUCATION'\n",
       "\\item 'EDU\\_NUM'\n",
       "\\item 'MARITAL\\_STATUS'\n",
       "\\item 'OCCUPATION'\n",
       "\\item 'RELATIONSHIP'\n",
       "\\item 'RACE'\n",
       "\\item 'SEX'\n",
       "\\item 'CAPITAL\\_GAIN'\n",
       "\\item 'CAPITAL\\_LOSS'\n",
       "\\item 'HOURS\\_PER\\_WEEK'\n",
       "\\item 'COUNTRY'\n",
       "\\end{enumerate*}\n"
      ],
      "text/markdown": [
       "1. 'AGE'\n",
       "2. 'WORKCLASS'\n",
       "3. 'FNLWGT'\n",
       "4. 'EDUCATION'\n",
       "5. 'EDU_NUM'\n",
       "6. 'MARITAL_STATUS'\n",
       "7. 'OCCUPATION'\n",
       "8. 'RELATIONSHIP'\n",
       "9. 'RACE'\n",
       "10. 'SEX'\n",
       "11. 'CAPITAL_GAIN'\n",
       "12. 'CAPITAL_LOSS'\n",
       "13. 'HOURS_PER_WEEK'\n",
       "14. 'COUNTRY'\n",
       "\n",
       "\n"
      ],
      "text/plain": [
       " [1] \"AGE\"            \"WORKCLASS\"      \"FNLWGT\"         \"EDUCATION\"     \n",
       " [5] \"EDU_NUM\"        \"MARITAL_STATUS\" \"OCCUPATION\"     \"RELATIONSHIP\"  \n",
       " [9] \"RACE\"           \"SEX\"            \"CAPITAL_GAIN\"   \"CAPITAL_LOSS\"  \n",
       "[13] \"HOURS_PER_WEEK\" \"COUNTRY\"       "
      ]
     },
     "metadata": {},
     "output_type": "display_data"
    },
    {
     "data": {
      "text/plain": [
       "Confusion Matrix and Statistics\n",
       "\n",
       "          Reference\n",
       "Prediction   A   B\n",
       "         A  27  15\n",
       "         B  22 150\n",
       "                                          \n",
       "               Accuracy : 0.8271          \n",
       "                 95% CI : (0.7696, 0.8752)\n",
       "    No Information Rate : 0.771           \n",
       "    P-Value [Acc > NIR] : 0.02785         \n",
       "                                          \n",
       "                  Kappa : 0.4844          \n",
       " Mcnemar's Test P-Value : 0.32394         \n",
       "                                          \n",
       "            Sensitivity : 0.5510          \n",
       "            Specificity : 0.9091          \n",
       "         Pos Pred Value : 0.6429          \n",
       "         Neg Pred Value : 0.8721          \n",
       "             Prevalence : 0.2290          \n",
       "         Detection Rate : 0.1262          \n",
       "   Detection Prevalence : 0.1963          \n",
       "      Balanced Accuracy : 0.7301          \n",
       "                                          \n",
       "       'Positive' Class : A               \n",
       "                                          "
      ]
     },
     "metadata": {},
     "output_type": "display_data"
    }
   ],
   "source": [
    "final <- obj$ga$final\n",
    "final\n",
    "\n",
    "pred_final <- predict(obj$fit,newdata=testData)\n",
    "confusionMatrix(data=pred_final, testData$INCOME)"
   ]
  },
  {
   "cell_type": "code",
   "execution_count": 34,
   "metadata": {},
   "outputs": [
    {
     "data": {
      "text/plain": [
       "Confusion Matrix and Statistics\n",
       "\n",
       "          Reference\n",
       "Prediction   A   B\n",
       "         A  21  12\n",
       "         B  28 153\n",
       "                                         \n",
       "               Accuracy : 0.8131         \n",
       "                 95% CI : (0.7543, 0.863)\n",
       "    No Information Rate : 0.771          \n",
       "    P-Value [Acc > NIR] : 0.08105        \n",
       "                                         \n",
       "                  Kappa : 0.402          \n",
       " Mcnemar's Test P-Value : 0.01771        \n",
       "                                         \n",
       "            Sensitivity : 0.42857        \n",
       "            Specificity : 0.92727        \n",
       "         Pos Pred Value : 0.63636        \n",
       "         Neg Pred Value : 0.84530        \n",
       "             Prevalence : 0.22897        \n",
       "         Detection Rate : 0.09813        \n",
       "   Detection Prevalence : 0.15421        \n",
       "      Balanced Accuracy : 0.67792        \n",
       "                                         \n",
       "       'Positive' Class : A              \n",
       "                                         "
      ]
     },
     "metadata": {},
     "output_type": "display_data"
    }
   ],
   "source": [
    "# Modelo Sem Feature Selection\n",
    "set.seed(314)\n",
    "cv <- trainControl(method = \"repeatedcv\", number = 10, \n",
    "                   savePredictions = TRUE, classProbs=TRUE)\n",
    "\n",
    "model_5.0 <- train(INCOME~AGE+WORKCLASS+FNLWGT+EDUCATION+EDU_NUM+MARITAL_STATUS+OCCUPATION+RELATIONSHIP+RACE+SEX+CAPITAL_GAIN+CAPITAL_LOSS+HOURS_PER_WEEK+COUNTRY, data = trainData, method = \"C5.0Tree\",\n",
    "                   trControl = cv, \n",
    "                   na.action=na.exclude)\n",
    "\n",
    "\n",
    "pred_5.0 <- predict(model_5.0 ,newdata=testData)\n",
    "confusionMatrix(data=pred_5.0, testData$INCOME)"
   ]
  },
  {
   "cell_type": "code",
   "execution_count": 35,
   "metadata": {},
   "outputs": [
    {
     "data": {
      "text/plain": [
       "Confusion Matrix and Statistics\n",
       "\n",
       "          Reference\n",
       "Prediction   A   B\n",
       "         A  10   1\n",
       "         B  39 164\n",
       "                                         \n",
       "               Accuracy : 0.8131         \n",
       "                 95% CI : (0.7543, 0.863)\n",
       "    No Information Rate : 0.771          \n",
       "    P-Value [Acc > NIR] : 0.08105        \n",
       "                                         \n",
       "                  Kappa : 0.2722         \n",
       " Mcnemar's Test P-Value : 4.909e-09      \n",
       "                                         \n",
       "            Sensitivity : 0.20408        \n",
       "            Specificity : 0.99394        \n",
       "         Pos Pred Value : 0.90909        \n",
       "         Neg Pred Value : 0.80788        \n",
       "             Prevalence : 0.22897        \n",
       "         Detection Rate : 0.04673        \n",
       "   Detection Prevalence : 0.05140        \n",
       "      Balanced Accuracy : 0.59901        \n",
       "                                         \n",
       "       'Positive' Class : A              \n",
       "                                         "
      ]
     },
     "metadata": {},
     "output_type": "display_data"
    }
   ],
   "source": [
    "# Modelo Sem Feature Selection\n",
    "set.seed(314)\n",
    "cv <- trainControl(method = \"repeatedcv\", number = 10, \n",
    "                   savePredictions = TRUE, classProbs=TRUE)\n",
    "\n",
    "model_5.0 <- train(INCOME~EDUCATION+CAPITAL_GAIN, data = trainData, method = \"C5.0Tree\",\n",
    "                   trControl = cv, \n",
    "                   na.action=na.exclude)\n",
    "\n",
    "\n",
    "pred_5.0 <- predict(model_5.0 ,newdata=testData)\n",
    "confusionMatrix(data=pred_5.0, testData$INCOME)"
   ]
  },
  {
   "cell_type": "code",
   "execution_count": 4,
   "metadata": {},
   "outputs": [
    {
     "data": {
      "text/html": [
       "<table>\n",
       "<caption>A data.frame: 6 × 7</caption>\n",
       "<thead>\n",
       "\t<tr><th scope=col>NBATH</th><th scope=col>CRIM</th><th scope=col>NROOMS</th><th scope=col>TAX</th><th scope=col>DISC</th><th scope=col>AGE</th><th scope=col>PRICE</th></tr>\n",
       "\t<tr><th scope=col>&lt;int&gt;</th><th scope=col>&lt;dbl&gt;</th><th scope=col>&lt;int&gt;</th><th scope=col>&lt;dbl&gt;</th><th scope=col>&lt;dbl&gt;</th><th scope=col>&lt;int&gt;</th><th scope=col>&lt;dbl&gt;</th></tr>\n",
       "</thead>\n",
       "<tbody>\n",
       "\t<tr><td>3</td><td>0.81</td><td>5</td><td>70.19</td><td>111.03</td><td>70</td><td>111.03</td></tr>\n",
       "\t<tr><td>1</td><td>0.68</td><td>3</td><td>75.10</td><td>123.09</td><td>17</td><td>118.94</td></tr>\n",
       "\t<tr><td>1</td><td>0.69</td><td>2</td><td>78.89</td><td>223.98</td><td> 3</td><td>167.12</td></tr>\n",
       "\t<tr><td>3</td><td>0.89</td><td>5</td><td>96.97</td><td> 68.86</td><td>97</td><td> 68.86</td></tr>\n",
       "\t<tr><td>1</td><td>0.73</td><td>3</td><td>39.79</td><td>161.36</td><td>15</td><td>145.42</td></tr>\n",
       "\t<tr><td>1</td><td>0.56</td><td>2</td><td>40.68</td><td>137.97</td><td>17</td><td>127.69</td></tr>\n",
       "</tbody>\n",
       "</table>\n"
      ],
      "text/latex": [
       "A data.frame: 6 × 7\n",
       "\\begin{tabular}{r|lllllll}\n",
       " NBATH & CRIM & NROOMS & TAX & DISC & AGE & PRICE\\\\\n",
       " <int> & <dbl> & <int> & <dbl> & <dbl> & <int> & <dbl>\\\\\n",
       "\\hline\n",
       "\t 3 & 0.81 & 5 & 70.19 & 111.03 & 70 & 111.03\\\\\n",
       "\t 1 & 0.68 & 3 & 75.10 & 123.09 & 17 & 118.94\\\\\n",
       "\t 1 & 0.69 & 2 & 78.89 & 223.98 &  3 & 167.12\\\\\n",
       "\t 3 & 0.89 & 5 & 96.97 &  68.86 & 97 &  68.86\\\\\n",
       "\t 1 & 0.73 & 3 & 39.79 & 161.36 & 15 & 145.42\\\\\n",
       "\t 1 & 0.56 & 2 & 40.68 & 137.97 & 17 & 127.69\\\\\n",
       "\\end{tabular}\n"
      ],
      "text/markdown": [
       "\n",
       "A data.frame: 6 × 7\n",
       "\n",
       "| NBATH &lt;int&gt; | CRIM &lt;dbl&gt; | NROOMS &lt;int&gt; | TAX &lt;dbl&gt; | DISC &lt;dbl&gt; | AGE &lt;int&gt; | PRICE &lt;dbl&gt; |\n",
       "|---|---|---|---|---|---|---|\n",
       "| 3 | 0.81 | 5 | 70.19 | 111.03 | 70 | 111.03 |\n",
       "| 1 | 0.68 | 3 | 75.10 | 123.09 | 17 | 118.94 |\n",
       "| 1 | 0.69 | 2 | 78.89 | 223.98 |  3 | 167.12 |\n",
       "| 3 | 0.89 | 5 | 96.97 |  68.86 | 97 |  68.86 |\n",
       "| 1 | 0.73 | 3 | 39.79 | 161.36 | 15 | 145.42 |\n",
       "| 1 | 0.56 | 2 | 40.68 | 137.97 | 17 | 127.69 |\n",
       "\n"
      ],
      "text/plain": [
       "  NBATH CRIM NROOMS TAX   DISC   AGE PRICE \n",
       "1 3     0.81 5      70.19 111.03 70  111.03\n",
       "2 1     0.68 3      75.10 123.09 17  118.94\n",
       "3 1     0.69 2      78.89 223.98  3  167.12\n",
       "4 3     0.89 5      96.97  68.86 97   68.86\n",
       "5 1     0.73 3      39.79 161.36 15  145.42\n",
       "6 1     0.56 2      40.68 137.97 17  127.69"
      ]
     },
     "metadata": {},
     "output_type": "display_data"
    }
   ],
   "source": [
    "desafio <- \"E:\\\\1.DATA_ANALYTICS\\\\17-Analise Preditiva Avancada\\\\Exercicio_1\\\\BostonRealEstate_Exercise.csv\"\n",
    "df_2 <- read.csv(file= desafio, header=TRUE, sep=\",\")\n",
    "head(df_2)"
   ]
  },
  {
   "cell_type": "code",
   "execution_count": 5,
   "metadata": {},
   "outputs": [],
   "source": [
    "# Divisão Treino & Teste\n",
    "set.seed(987)\n",
    "trainIndex <- createDataPartition(df_2$PRICE, p = .7, list = FALSE)\n",
    "\n",
    "# Bases de Treino & Teste\n",
    "set.seed(987)\n",
    "dfTrain <- df_2[ trainIndex,]\n",
    "dfTest  <- df_2[-trainIndex,]\n",
    "\n",
    "# Vetores Genéticos\n",
    "set.seed(987)\n",
    "vector_1 <- c('CRIM','NROOMS','AGE','PRICE')\n",
    "vector_2 <- c('TAX','DISC','AGE','PRICE')\n",
    "\n",
    "# Bases de Treino para cada Modelo\n",
    "dfTrain_1 <- df_2[,vector_1]\n",
    "dfTrain_2 <- df_2[,vector_2]\n",
    "\n",
    "# Modelos\n",
    "model_1 <- train(PRICE~., data = dfTrain_1 ,method = \"lm\")\n",
    "model_2 <- train(PRICE~., data = dfTrain_2 ,method = \"lm\")"
   ]
  },
  {
   "cell_type": "code",
   "execution_count": 6,
   "metadata": {},
   "outputs": [
    {
     "data": {
      "text/plain": [
       "Linear Regression \n",
       "\n",
       "834 samples\n",
       "  3 predictor\n",
       "\n",
       "No pre-processing\n",
       "Resampling: Bootstrapped (25 reps) \n",
       "Summary of sample sizes: 834, 834, 834, 834, 834, 834, ... \n",
       "Resampling results:\n",
       "\n",
       "  RMSE      Rsquared   MAE     \n",
       "  40.14682  0.3395054  30.96571\n",
       "\n",
       "Tuning parameter 'intercept' was held constant at a value of TRUE"
      ]
     },
     "metadata": {},
     "output_type": "display_data"
    }
   ],
   "source": [
    "model_1"
   ]
  },
  {
   "cell_type": "code",
   "execution_count": 7,
   "metadata": {},
   "outputs": [
    {
     "data": {
      "text/plain": [
       "Linear Regression \n",
       "\n",
       "834 samples\n",
       "  3 predictor\n",
       "\n",
       "No pre-processing\n",
       "Resampling: Bootstrapped (25 reps) \n",
       "Summary of sample sizes: 834, 834, 834, 834, 834, 834, ... \n",
       "Resampling results:\n",
       "\n",
       "  RMSE      Rsquared   MAE     \n",
       "  23.25566  0.7777663  17.41788\n",
       "\n",
       "Tuning parameter 'intercept' was held constant at a value of TRUE"
      ]
     },
     "metadata": {},
     "output_type": "display_data"
    }
   ],
   "source": [
    "model_2"
   ]
  },
  {
   "cell_type": "code",
   "execution_count": null,
   "metadata": {},
   "outputs": [],
   "source": []
  }
 ],
 "metadata": {
  "kernelspec": {
   "display_name": "R",
   "language": "R",
   "name": "ir"
  },
  "language_info": {
   "codemirror_mode": "r",
   "file_extension": ".r",
   "mimetype": "text/x-r-source",
   "name": "R",
   "pygments_lexer": "r",
   "version": "3.5.2"
  }
 },
 "nbformat": 4,
 "nbformat_minor": 2
}
