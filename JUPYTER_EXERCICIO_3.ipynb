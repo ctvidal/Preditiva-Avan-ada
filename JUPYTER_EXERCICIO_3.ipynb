{
 "cells": [
  {
   "cell_type": "code",
   "execution_count": 1,
   "metadata": {},
   "outputs": [
    {
     "name": "stderr",
     "output_type": "stream",
     "text": [
      "Loading required package: lattice\n",
      "Loading required package: ggplot2\n",
      "Warning message:\n",
      "\"package 'mlbench' was built under R version 3.5.3\""
     ]
    }
   ],
   "source": [
    "library(caret)\n",
    "library(mlbench)\n",
    "\n",
    "df <- read.csv2(file=\"E:\\\\1.DATA_ANALYTICS\\\\17-Analise Preditiva Avançada\\\\Exercicio_3\\\\BostonHospital_Exercise.csv\", header=TRUE, sep=\",\",fileEncoding=\"UTF-8\")"
   ]
  },
  {
   "cell_type": "code",
   "execution_count": 2,
   "metadata": {},
   "outputs": [
    {
     "data": {
      "text/html": [
       "<table>\n",
       "<caption>A data.frame: 6 × 9</caption>\n",
       "<thead>\n",
       "\t<tr><th scope=col>Q1</th><th scope=col>Q2</th><th scope=col>Q3</th><th scope=col>Q4</th><th scope=col>Q5</th><th scope=col>Q6</th><th scope=col>Q7</th><th scope=col>Q8</th><th scope=col>Categoria</th></tr>\n",
       "\t<tr><th scope=col>&lt;fct&gt;</th><th scope=col>&lt;fct&gt;</th><th scope=col>&lt;fct&gt;</th><th scope=col>&lt;fct&gt;</th><th scope=col>&lt;fct&gt;</th><th scope=col>&lt;fct&gt;</th><th scope=col>&lt;fct&gt;</th><th scope=col>&lt;fct&gt;</th><th scope=col>&lt;fct&gt;</th></tr>\n",
       "</thead>\n",
       "<tbody>\n",
       "\t<tr><td>Dor de Cabeça</td><td>Paralisisa</td><td>Perda de Audição/Zumbido</td><td>1</td><td>Perda de Apetite</td><td>Sim</td><td>Perda de Peso</td><td>Cãibras           </td><td>D</td></tr>\n",
       "\t<tr><td>Dor de Cabeça</td><td>Paralisisa</td><td>Perda de Audição/Zumbido</td><td>1</td><td>Perda de Apetite</td><td>Sim</td><td>Perda de Peso</td><td>Disparo do Coração</td><td>C</td></tr>\n",
       "\t<tr><td>Dor de Cabeça</td><td>Paralisisa</td><td>Perda de Audição/Zumbido</td><td>1</td><td>Perda de Apetite</td><td>Sim</td><td>Perda de Peso</td><td>Pressão Alta      </td><td>A</td></tr>\n",
       "\t<tr><td>Dor de Cabeça</td><td>Paralisisa</td><td>Perda de Audição/Zumbido</td><td>1</td><td>Perda de Apetite</td><td>Sim</td><td>Ganho de Peso</td><td>Cãibras           </td><td>D</td></tr>\n",
       "\t<tr><td>Dor de Cabeça</td><td>Paralisisa</td><td>Perda de Audição/Zumbido</td><td>1</td><td>Perda de Apetite</td><td>Sim</td><td>Ganho de Peso</td><td>Disparo do Coração</td><td>C</td></tr>\n",
       "\t<tr><td>Dor de Cabeça</td><td>Paralisisa</td><td>Perda de Audição/Zumbido</td><td>1</td><td>Perda de Apetite</td><td>Sim</td><td>Ganho de Peso</td><td>Pressão Alta      </td><td>A</td></tr>\n",
       "</tbody>\n",
       "</table>\n"
      ],
      "text/latex": [
       "A data.frame: 6 × 9\n",
       "\\begin{tabular}{r|lllllllll}\n",
       " Q1 & Q2 & Q3 & Q4 & Q5 & Q6 & Q7 & Q8 & Categoria\\\\\n",
       " <fct> & <fct> & <fct> & <fct> & <fct> & <fct> & <fct> & <fct> & <fct>\\\\\n",
       "\\hline\n",
       "\t Dor de Cabeça & Paralisisa & Perda de Audição/Zumbido & 1 & Perda de Apetite & Sim & Perda de Peso & Cãibras            & D\\\\\n",
       "\t Dor de Cabeça & Paralisisa & Perda de Audição/Zumbido & 1 & Perda de Apetite & Sim & Perda de Peso & Disparo do Coração & C\\\\\n",
       "\t Dor de Cabeça & Paralisisa & Perda de Audição/Zumbido & 1 & Perda de Apetite & Sim & Perda de Peso & Pressão Alta       & A\\\\\n",
       "\t Dor de Cabeça & Paralisisa & Perda de Audição/Zumbido & 1 & Perda de Apetite & Sim & Ganho de Peso & Cãibras            & D\\\\\n",
       "\t Dor de Cabeça & Paralisisa & Perda de Audição/Zumbido & 1 & Perda de Apetite & Sim & Ganho de Peso & Disparo do Coração & C\\\\\n",
       "\t Dor de Cabeça & Paralisisa & Perda de Audição/Zumbido & 1 & Perda de Apetite & Sim & Ganho de Peso & Pressão Alta       & A\\\\\n",
       "\\end{tabular}\n"
      ],
      "text/markdown": [
       "\n",
       "A data.frame: 6 × 9\n",
       "\n",
       "| Q1 &lt;fct&gt; | Q2 &lt;fct&gt; | Q3 &lt;fct&gt; | Q4 &lt;fct&gt; | Q5 &lt;fct&gt; | Q6 &lt;fct&gt; | Q7 &lt;fct&gt; | Q8 &lt;fct&gt; | Categoria &lt;fct&gt; |\n",
       "|---|---|---|---|---|---|---|---|---|\n",
       "| Dor de Cabeça | Paralisisa | Perda de Audição/Zumbido | 1 | Perda de Apetite | Sim | Perda de Peso | Cãibras            | D |\n",
       "| Dor de Cabeça | Paralisisa | Perda de Audição/Zumbido | 1 | Perda de Apetite | Sim | Perda de Peso | Disparo do Coração | C |\n",
       "| Dor de Cabeça | Paralisisa | Perda de Audição/Zumbido | 1 | Perda de Apetite | Sim | Perda de Peso | Pressão Alta       | A |\n",
       "| Dor de Cabeça | Paralisisa | Perda de Audição/Zumbido | 1 | Perda de Apetite | Sim | Ganho de Peso | Cãibras            | D |\n",
       "| Dor de Cabeça | Paralisisa | Perda de Audição/Zumbido | 1 | Perda de Apetite | Sim | Ganho de Peso | Disparo do Coração | C |\n",
       "| Dor de Cabeça | Paralisisa | Perda de Audição/Zumbido | 1 | Perda de Apetite | Sim | Ganho de Peso | Pressão Alta       | A |\n",
       "\n"
      ],
      "text/plain": [
       "  Q1            Q2         Q3                       Q4 Q5               Q6 \n",
       "1 Dor de Cabeça Paralisisa Perda de Audição/Zumbido 1  Perda de Apetite Sim\n",
       "2 Dor de Cabeça Paralisisa Perda de Audição/Zumbido 1  Perda de Apetite Sim\n",
       "3 Dor de Cabeça Paralisisa Perda de Audição/Zumbido 1  Perda de Apetite Sim\n",
       "4 Dor de Cabeça Paralisisa Perda de Audição/Zumbido 1  Perda de Apetite Sim\n",
       "5 Dor de Cabeça Paralisisa Perda de Audição/Zumbido 1  Perda de Apetite Sim\n",
       "6 Dor de Cabeça Paralisisa Perda de Audição/Zumbido 1  Perda de Apetite Sim\n",
       "  Q7            Q8                 Categoria\n",
       "1 Perda de Peso Cãibras            D        \n",
       "2 Perda de Peso Disparo do Coração C        \n",
       "3 Perda de Peso Pressão Alta       A        \n",
       "4 Ganho de Peso Cãibras            D        \n",
       "5 Ganho de Peso Disparo do Coração C        \n",
       "6 Ganho de Peso Pressão Alta       A        "
      ]
     },
     "metadata": {},
     "output_type": "display_data"
    }
   ],
   "source": [
    "head(df)"
   ]
  },
  {
   "cell_type": "code",
   "execution_count": 3,
   "metadata": {},
   "outputs": [
    {
     "data": {
      "text/plain": [
       "                    Q1                Q2      \n",
       " Dor de Cabeça       :4142   Depressão :2391  \n",
       " Dor nas Articulações:3781   Desmaios  :2143  \n",
       " Dor nos Olhos       :3541   Insônia   :2434  \n",
       "                             Nervosismo:2202  \n",
       "                             Paralisisa:2294  \n",
       "                            Q3          Q4      \n",
       " Alteração do Olfato         :2819   1   :2978  \n",
       " Perda de Audição/Zumbido    :2755   2   :2879  \n",
       " Problema Auditivo em Parente:2812   3   :2758  \n",
       " Visão Turva                 :3078   Mais:2849  \n",
       "                                                \n",
       "                        Q5         Q6                   Q7      \n",
       " Dificuldade para Engolir:3820   Não:5738   Ganho de Peso:7641  \n",
       " Dor de Garganta         :3822   Sim:5726   Perda de Peso:3823  \n",
       " Perda de Apetite        :3822                                  \n",
       "                                                                \n",
       "                                                                \n",
       "                  Q8       Categoria\n",
       " Cãibras           :3822   A:3821   \n",
       " Disparo do Coração:3821   B:3492   \n",
       " Pressão Alta      :3821   C:3845   \n",
       "                           D: 306   \n",
       "                                    "
      ]
     },
     "metadata": {},
     "output_type": "display_data"
    }
   ],
   "source": [
    "summary(df)"
   ]
  },
  {
   "cell_type": "code",
   "execution_count": 4,
   "metadata": {
    "collapsed": true
   },
   "outputs": [],
   "source": [
    "set.seed(9283)\n",
    "trainIndex <- createDataPartition(df$Categoria, p = .7, list = FALSE)\n",
    "dfTrain <- df[ trainIndex,]\n",
    "dfTest  <- df[-trainIndex,]"
   ]
  },
  {
   "cell_type": "markdown",
   "metadata": {},
   "source": [
    "<H1>Árvore com Boosting</H1>"
   ]
  },
  {
   "cell_type": "code",
   "execution_count": 5,
   "metadata": {},
   "outputs": [
    {
     "data": {
      "text/plain": [
       "eXtreme Gradient Boosting \n",
       "\n",
       "8027 samples\n",
       "   8 predictor\n",
       "   4 classes: 'A', 'B', 'C', 'D' \n",
       "\n",
       "No pre-processing\n",
       "Resampling: Cross-Validated (10 fold, repeated 1 times) \n",
       "Summary of sample sizes: 7224, 7223, 7223, 7223, 7225, 7225, ... \n",
       "Resampling results across tuning parameters:\n",
       "\n",
       "  eta  max_depth  colsample_bytree  subsample  nrounds  Accuracy   Kappa    \n",
       "  0.3  1          0.6               0.50        50      0.8831471  0.8268480\n",
       "  0.3  1          0.6               0.50       100      0.9000952  0.8519558\n",
       "  0.3  1          0.6               0.50       150      0.9071970  0.8626266\n",
       "  0.3  1          0.6               0.75        50      0.8846444  0.8290752\n",
       "  0.3  1          0.6               0.75       100      0.8987239  0.8499166\n",
       "  0.3  1          0.6               0.75       150      0.9070703  0.8624021\n",
       "  0.3  1          0.6               1.00        50      0.8814048  0.8242830\n",
       "  0.3  1          0.6               1.00       100      0.8995949  0.8512146\n",
       "  0.3  1          0.6               1.00       150      0.9059506  0.8607140\n",
       "  0.3  1          0.8               0.50        50      0.8853918  0.8301802\n",
       "  0.3  1          0.8               0.50       100      0.9028353  0.8560095\n",
       "  0.3  1          0.8               0.50       150      0.9079453  0.8637274\n",
       "  0.3  1          0.8               0.75        50      0.8882556  0.8344470\n",
       "  0.3  1          0.8               0.75       100      0.9019626  0.8547223\n",
       "  0.3  1          0.8               0.75       150      0.9061992  0.8610908\n",
       "  0.3  1          0.8               1.00        50      0.8865098  0.8318580\n",
       "  0.3  1          0.8               1.00       100      0.9003437  0.8523187\n",
       "  0.3  1          0.8               1.00       150      0.9060740  0.8608924\n",
       "  0.3  2          0.6               0.50        50      0.9110585  0.8682010\n",
       "  0.3  2          0.6               0.50       100      0.9297434  0.8963048\n",
       "  0.3  2          0.6               0.50       150      0.9395840  0.9110577\n",
       "  0.3  2          0.6               0.75        50      0.9081886  0.8639540\n",
       "  0.3  2          0.6               0.75       100      0.9276277  0.8931033\n",
       "  0.3  2          0.6               0.75       150      0.9390854  0.9103376\n",
       "  0.3  2          0.6               1.00        50      0.9095586  0.8659788\n",
       "  0.3  2          0.6               1.00       100      0.9275021  0.8929201\n",
       "  0.3  2          0.6               1.00       150      0.9358466  0.9055316\n",
       "  0.3  2          0.8               0.50        50      0.9106813  0.8676713\n",
       "  0.3  2          0.8               0.50       100      0.9318627  0.8994497\n",
       "  0.3  2          0.8               0.50       150      0.9431977  0.9164277\n",
       "  0.3  2          0.8               0.75        50      0.9134218  0.8717014\n",
       "  0.3  2          0.8               0.75       100      0.9312384  0.8985184\n",
       "  0.3  2          0.8               0.75       150      0.9415753  0.9140248\n",
       "  0.3  2          0.8               1.00        50      0.9121765  0.8698507\n",
       "  0.3  2          0.8               1.00       100      0.9292462  0.8954981\n",
       "  0.3  2          0.8               1.00       150      0.9403323  0.9120965\n",
       "  0.3  3          0.6               0.50        50      0.9268795  0.8919073\n",
       "  0.3  3          0.6               0.50       100      0.9438163  0.9173846\n",
       "  0.3  3          0.6               0.50       150      0.9455635  0.9200976\n",
       "  0.3  3          0.6               0.75        50      0.9241385  0.8878698\n",
       "  0.3  3          0.6               0.75       100      0.9438157  0.9173773\n",
       "  0.3  3          0.6               0.75       150      0.9456877  0.9202649\n",
       "  0.3  3          0.6               1.00        50      0.9265042  0.8913122\n",
       "  0.3  3          0.6               1.00       100      0.9429456  0.9160691\n",
       "  0.3  3          0.6               1.00       150      0.9448166  0.9189338\n",
       "  0.3  3          0.8               0.50        50      0.9319897  0.8995590\n",
       "  0.3  3          0.8               0.50       100      0.9465604  0.9214099\n",
       "  0.3  3          0.8               0.50       150      0.9466855  0.9217539\n",
       "  0.3  3          0.8               0.75        50      0.9322352  0.8998717\n",
       "  0.3  3          0.8               0.75       100      0.9449421  0.9190538\n",
       "  0.3  3          0.8               0.75       150      0.9450669  0.9194006\n",
       "  0.3  3          0.8               1.00        50      0.9289975  0.8949821\n",
       "  0.3  3          0.8               1.00       100      0.9438197  0.9173875\n",
       "  0.3  3          0.8               1.00       150      0.9454411  0.9199029\n",
       "  0.4  1          0.6               0.50        50      0.8938633  0.8427060\n",
       "  0.4  1          0.6               0.50       100      0.9040815  0.8579203\n",
       "  0.4  1          0.6               0.50       150      0.9109367  0.8683714\n",
       "  0.4  1          0.6               0.75        50      0.8909978  0.8384833\n",
       "  0.4  1          0.6               0.75       100      0.9047043  0.8588081\n",
       "  0.4  1          0.6               0.75       150      0.9103134  0.8674357\n",
       "  0.4  1          0.6               1.00        50      0.8929903  0.8414334\n",
       "  0.4  1          0.6               1.00       100      0.9040803  0.8578647\n",
       "  0.4  1          0.6               1.00       150      0.9106870  0.8679385\n",
       "  0.4  1          0.8               0.50        50      0.8943625  0.8434611\n",
       "  0.4  1          0.8               0.50       100      0.9069453  0.8621855\n",
       "  0.4  1          0.8               0.50       150      0.9095656  0.8663735\n",
       "  0.4  1          0.8               0.75        50      0.8936148  0.8423607\n",
       "  0.4  1          0.8               0.75       100      0.9064487  0.8614185\n",
       "  0.4  1          0.8               0.75       150      0.9110611  0.8685560\n",
       "  0.4  1          0.8               1.00        50      0.8931159  0.8416303\n",
       "  0.4  1          0.8               1.00       100      0.9052020  0.8595460\n",
       "  0.4  1          0.8               1.00       150      0.9108102  0.8681392\n",
       "  0.4  2          0.6               0.50        50      0.9191556  0.8803216\n",
       "  0.4  2          0.6               0.50       100      0.9384611  0.9093478\n",
       "  0.4  2          0.6               0.50       150      0.9458122  0.9203592\n",
       "  0.4  2          0.6               0.75        50      0.9165389  0.8763916\n",
       "  0.4  2          0.6               0.75       100      0.9368429  0.9069874\n",
       "  0.4  2          0.6               0.75       150      0.9459368  0.9205133\n",
       "  0.4  2          0.6               1.00        50      0.9139213  0.8725038\n",
       "  0.4  2          0.6               1.00       100      0.9351001  0.9043523\n",
       "  0.4  2          0.6               1.00       150      0.9433197  0.9166512\n",
       "  0.4  2          0.8               0.50        50      0.9204028  0.8822237\n",
       "  0.4  2          0.8               0.50       100      0.9404547  0.9123232\n",
       "  0.4  2          0.8               0.50       150      0.9460624  0.9207578\n",
       "  0.4  2          0.8               0.75        50      0.9186583  0.8795387\n",
       "  0.4  2          0.8               0.75       100      0.9402082  0.9119510\n",
       "  0.4  2          0.8               0.75       150      0.9470579  0.9221723\n",
       "  0.4  2          0.8               1.00        50      0.9182812  0.8789611\n",
       "  0.4  2          0.8               1.00       100      0.9374654  0.9078716\n",
       "  0.4  2          0.8               1.00       150      0.9455635  0.9199359\n",
       "  0.4  3          0.6               0.50        50      0.9343539  0.9031877\n",
       "  0.4  3          0.6               0.50       100      0.9459385  0.9206193\n",
       "  0.4  3          0.6               0.50       150      0.9441938  0.9181232\n",
       "  0.4  3          0.6               0.75        50      0.9355960  0.9050521\n",
       "  0.4  3          0.6               0.75       100      0.9460616  0.9207895\n",
       "  0.4  3          0.6               0.75       150      0.9455644  0.9201441\n",
       "  0.4  3          0.6               1.00        50      0.9343524  0.9031961\n",
       "  0.4  3          0.6               1.00       100      0.9451908  0.9194956\n",
       "  0.4  3          0.6               1.00       150      0.9458133  0.9205140\n",
       "  0.4  3          0.8               0.50        50      0.9398312  0.9114057\n",
       "  0.4  3          0.8               0.50       100      0.9475554  0.9230122\n",
       "  0.4  3          0.8               0.50       150      0.9453160  0.9198306\n",
       "  0.4  3          0.8               0.75        50      0.9393345  0.9105930\n",
       "  0.4  3          0.8               0.75       100      0.9459366  0.9206512\n",
       "  0.4  3          0.8               0.75       150      0.9449425  0.9193255\n",
       "  0.4  3          0.8               1.00        50      0.9405794  0.9124281\n",
       "  0.4  3          0.8               1.00       100      0.9459369  0.9206298\n",
       "  0.4  3          0.8               1.00       150      0.9451910  0.9196202\n",
       "\n",
       "Tuning parameter 'gamma' was held constant at a value of 0\n",
       "Tuning\n",
       " parameter 'min_child_weight' was held constant at a value of 1\n",
       "Accuracy was used to select the optimal model using the largest value.\n",
       "The final values used for the model were nrounds = 100, max_depth = 3, eta\n",
       " = 0.4, gamma = 0, colsample_bytree = 0.8, min_child_weight = 1 and subsample\n",
       " = 0.5."
      ]
     },
     "metadata": {},
     "output_type": "display_data"
    }
   ],
   "source": [
    "set.seed(9283)\n",
    "\n",
    "# Definindo Parâmetros do Cross Validation\n",
    "cv <- trainControl(method = \"repeatedcv\", number = 10, savePredictions = TRUE, classProbs=TRUE)\n",
    "\n",
    "# Treinando Modelo com Boosting (XgBoost)\n",
    "model_boosting <- train(Categoria~. , data = dfTrain, method = \"xgbTree\",trControl = cv)\n",
    "\n",
    "model_boosting\n",
    "\n"
   ]
  },
  {
   "cell_type": "code",
   "execution_count": null,
   "metadata": {
    "collapsed": true
   },
   "outputs": [],
   "source": [
    "# Gerando Matriz de Confusão\n",
    "pred_boosting <- predict(model_boosting ,newdata=dfTest)\n",
    "confusionMatrix(data=pred_boosting, dfTest$Categoria)\n",
    "\n",
    "# Fazendo Scoring do Modelo\n",
    "classProbs_boosting <- predict(model_boosting, newdata=dfTest, type=\"prob\")\n",
    "head(classProbs_boosting)\n",
    "\n",
    "# Importância das Variáveis Preditoras\n",
    "imp <- varImp(model_boosting, useModel=FALSE, scale=FALSE)\n",
    "imp\n",
    "plot(imp)"
   ]
  },
  {
   "cell_type": "markdown",
   "metadata": {},
   "source": [
    "<H1>Árvore com Bagging</H1>"
   ]
  },
  {
   "cell_type": "code",
   "execution_count": null,
   "metadata": {
    "collapsed": true
   },
   "outputs": [],
   "source": [
    "set.seed(9283)\n",
    "\n",
    "# Definindo Parâmetros do Cross Validation\n",
    "cv <- trainControl(method = \"repeatedcv\", number = 10, savePredictions = TRUE, classProbs=TRUE)\n",
    "\n",
    "# Treindo Modelo com Bagging\n",
    "model_bagging <- train(Categoria~. , data = dfTrain, method = \"treebag\",trControl = cv)\n",
    "\n",
    "model_bagging"
   ]
  },
  {
   "cell_type": "code",
   "execution_count": null,
   "metadata": {
    "collapsed": true
   },
   "outputs": [],
   "source": [
    "# Gerando Matriz de Confusão\n",
    "pred_bagging <- predict(model_bagging ,newdata=dfTest)\n",
    "confusionMatrix(data=pred_bagging, dfTest$Categoria)\n",
    "\n",
    "# Fazendo Scoring do Modelo\n",
    "classProbs_bagging <- predict(model_bagging, newdata=dfTest, type=\"prob\")\n",
    "head(classProbs_bagging)\n",
    "\n",
    "# Importância das Variáveis Preditoras\n",
    "imp <- varImp(model_bagging, useModel=FALSE, scale=FALSE)\n",
    "imp\n",
    "plot(imp)"
   ]
  },
  {
   "cell_type": "markdown",
   "metadata": {},
   "source": [
    "<H1>Árvore Random Forest</H1>"
   ]
  },
  {
   "cell_type": "code",
   "execution_count": null,
   "metadata": {
    "collapsed": true
   },
   "outputs": [],
   "source": [
    "set.seed(9283)\n",
    "\n",
    "# Definindo Parâmetros do Cross Validation\n",
    "cv <- trainControl(method = \"repeatedcv\", number = 10, savePredictions = TRUE, classProbs=TRUE)\n",
    "\n",
    "# Treinando Modelo Random Forest\n",
    "model_rf <- train(Categoria~. , data = dfTrain, method = \"rf\",trControl = cv)\n",
    "\n",
    "model_rf"
   ]
  },
  {
   "cell_type": "code",
   "execution_count": null,
   "metadata": {
    "collapsed": true
   },
   "outputs": [],
   "source": [
    "# Gerando Matriz de Confusão\n",
    "pred_rf <- predict(model_rf ,newdata=dfTest)\n",
    "confusionMatrix(data=pred_rf, dfTest$Categoria)\n",
    "\n",
    "# Fazendo Scoring do Modelo\n",
    "classProbs_rf <- predict(model_rf, newdata=dfTest, type=\"prob\")\n",
    "head(classProbs_rf)\n",
    "\n",
    "# Importância das Variáveis Preditoras\n",
    "imp <- varImp(model_rf, useModel=FALSE, scale=FALSE)\n",
    "imp\n",
    "plot(imp)"
   ]
  },
  {
   "cell_type": "code",
   "execution_count": null,
   "metadata": {
    "collapsed": true
   },
   "outputs": [],
   "source": [
    "imp_bagging <- varImp(model_bagging, useModel=FALSE, scale=FALSE)\n",
    "imp_bagging\n",
    "\n",
    "imp_boosting <- varImp(model_boosting, useModel=FALSE, scale=FALSE)\n",
    "imp_boosting\n",
    "\n",
    "imp_rf <- varImp(model_rf, useModel=FALSE, scale=FALSE)\n",
    "imp_rf"
   ]
  },
  {
   "cell_type": "code",
   "execution_count": null,
   "metadata": {
    "collapsed": true
   },
   "outputs": [],
   "source": [
    "patient <- data.frame(Q1=\"Dor de Cabeça\" , Q2=\"Paralisisa\" ,Q3=\"Problema Auditivo em Parente\" , \n",
    "                      Q4=\"Mais\" , Q5=\"Dor de Garganta\" ,\n",
    "                      Q6=\"Não\" , Q7=\"Ganho de Peso\" , Q8=\"Pressão Alta\")"
   ]
  },
  {
   "cell_type": "code",
   "execution_count": null,
   "metadata": {
    "collapsed": true
   },
   "outputs": [],
   "source": []
  }
 ],
 "metadata": {
  "kernelspec": {
   "display_name": "R",
   "language": "R",
   "name": "ir"
  },
  "language_info": {
   "codemirror_mode": "r",
   "file_extension": ".r",
   "mimetype": "text/x-r-source",
   "name": "R",
   "pygments_lexer": "r",
   "version": "3.5.2"
  }
 },
 "nbformat": 4,
 "nbformat_minor": 2
}
